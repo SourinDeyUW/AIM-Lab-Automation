{
 "cells": [
  {
   "cell_type": "code",
   "execution_count": 1,
   "metadata": {},
   "outputs": [],
   "source": [
    "import math\n",
    "import torch\n",
    "\n",
    "# use a GPU if available\n",
    "device = torch.device(\"cuda\" if torch.cuda.is_available() else \"cpu\")\n",
    "dtype = torch.float\n"
   ]
  },
  {
   "cell_type": "markdown",
   "metadata": {},
   "source": [
    "**Read Data and convert them into tensor readable format**"
   ]
  },
  {
   "cell_type": "code",
   "execution_count": 2,
   "metadata": {},
   "outputs": [],
   "source": [
    "import pandas as pd\n",
    "import numpy as np\n",
    "df=pd.read_csv(\"tuning.csv\")\n",
    "\n",
    "po=df[\"power\"]\n",
    "ti=df[\"time\"]\n",
    "p=po\n",
    "t=ti\n",
    "global change\n",
    "def change(df):\n",
    "    df=np.array(df)\n",
    "    df=np.reshape(df,(-1,1))\n",
    "    df=torch.FloatTensor(df)\n",
    "    return df\n",
    "tx=change(po)\n",
    "ty=change(ti)\n",
    "lst=np.zeros((len(po),2))\n",
    "for i in range(len(po)):\n",
    "    lst[i][0]=tx[i]\n",
    "    lst[i][1]=ty[i]\n",
    "lst=torch.FloatTensor(lst)"
   ]
  },
  {
   "cell_type": "markdown",
   "metadata": {},
   "source": [
    "**Fit Surrogate**"
   ]
  },
  {
   "cell_type": "code",
   "execution_count": 3,
   "metadata": {},
   "outputs": [],
   "source": [
    "from botorch.models import SingleTaskGP\n",
    "from gpytorch.constraints import GreaterThan\n",
    "\n",
    "\n",
    "model = SingleTaskGP(train_X=lst, train_Y=ty)\n",
    "model.likelihood.noise_covar.register_constraint(\"raw_noise\", GreaterThan(1e-5))"
   ]
  },
  {
   "cell_type": "code",
   "execution_count": 4,
   "metadata": {},
   "outputs": [],
   "source": [
    "from gpytorch.mlls import ExactMarginalLogLikelihood\n",
    "\n",
    "mll = ExactMarginalLogLikelihood(likelihood=model.likelihood, model=model)\n",
    "# set mll and all submodules to the specified dtype and device\n",
    "mll = mll.to(tx)"
   ]
  },
  {
   "cell_type": "code",
   "execution_count": 5,
   "metadata": {},
   "outputs": [],
   "source": [
    "from torch.optim import SGD\n",
    "\n",
    "optimizer = SGD([{'params': model.parameters()}], lr=0.1)"
   ]
  },
  {
   "cell_type": "code",
   "execution_count": 24,
   "metadata": {},
   "outputs": [],
   "source": [
    "model.eval();"
   ]
  },
  {
   "cell_type": "markdown",
   "metadata": {},
   "source": [
    "**Create Acquisition functions**"
   ]
  },
  {
   "cell_type": "markdown",
   "metadata": {},
   "source": [
    "**(1)Expected Improvement**"
   ]
  },
  {
   "cell_type": "code",
   "execution_count": 7,
   "metadata": {},
   "outputs": [],
   "source": [
    "from botorch.acquisition import ExpectedImprovement\n",
    "best_value = ty.max()\n",
    "EI = ExpectedImprovement(model=model, best_f=best_value)"
   ]
  },
  {
   "cell_type": "code",
   "execution_count": 8,
   "metadata": {},
   "outputs": [],
   "source": [
    "from botorch.optim import optimize_acqf\n",
    "\n",
    "new_point_analytic, _ = optimize_acqf(\n",
    "    acq_function=EI,\n",
    "    bounds=torch.tensor([[500.0,500.0], [5000.0,20000.0]]),\n",
    "    q=1,\n",
    "    num_restarts=20,\n",
    "    raw_samples=100,\n",
    "    options={},\n",
    ")"
   ]
  },
  {
   "cell_type": "code",
   "execution_count": 9,
   "metadata": {},
   "outputs": [
    {
     "name": "stdout",
     "output_type": "stream",
     "text": [
      "tensor([[4774.3613, 3249.7761]])\n"
     ]
    }
   ],
   "source": [
    "print(new_point_analytic)"
   ]
  },
  {
   "cell_type": "markdown",
   "metadata": {},
   "source": [
    "**(2)Monte Carlo acquisition function**"
   ]
  },
  {
   "cell_type": "code",
   "execution_count": 49,
   "metadata": {},
   "outputs": [],
   "source": [
    "from botorch.sampling import SobolQMCNormalSampler\n",
    "from botorch.acquisition import qExpectedImprovement\n",
    "sampler = SobolQMCNormalSampler(num_samples=500, seed=0, resample=False)        \n",
    "MC_EI = qExpectedImprovement(\n",
    "    model, best_f=best_value, sampler=sampler\n",
    ")\n",
    "torch.manual_seed(seed=0) # to keep the restart conditions the same\n",
    "new_point_mc, _ = optimize_acqf(\n",
    "    acq_function=MC_EI,\n",
    "    bounds=torch.tensor([[500.0,500.0], [5000.0,20000.0]]),\n",
    "    q=1,\n",
    "    num_restarts=20,\n",
    "    raw_samples=100,\n",
    "    options={},\n",
    ")"
   ]
  },
  {
   "cell_type": "code",
   "execution_count": 50,
   "metadata": {},
   "outputs": [
    {
     "name": "stdout",
     "output_type": "stream",
     "text": [
      "MC recommended power:  tensor([4928.0376, 8899.7021]) \n",
      "EI  recommended power:  tensor([[4910.6167, 4499.9937]])\n"
     ]
    }
   ],
   "source": [
    "print(\"MC recommended power and time : \",new_point_mc[0],\"\\nEI  recommended power and time: \",new_point_analytic)"
   ]
  }
 ],
 "metadata": {
  "kernelspec": {
   "display_name": "Python 3",
   "language": "python",
   "name": "python3"
  },
  "language_info": {
   "codemirror_mode": {
    "name": "ipython",
    "version": 3
   },
   "file_extension": ".py",
   "mimetype": "text/x-python",
   "name": "python",
   "nbconvert_exporter": "python",
   "pygments_lexer": "ipython3",
   "version": "3.7.4"
  }
 },
 "nbformat": 4,
 "nbformat_minor": 2
}
