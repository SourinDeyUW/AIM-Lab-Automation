{
 "cells": [
  {
   "cell_type": "code",
   "execution_count": null,
   "metadata": {},
   "outputs": [],
   "source": [
    "from spectraPlots import ration\n",
    "import os\n",
    "os.chdir(r'C:\\Users\\labuser\\campaign july 6 2020 CB lambda 5')\n",
    "#os.mkdir('figures of the experiments')\n",
    "\n",
    "for i in range(0,55):\n",
    "\n",
    "        p,twoGD,twoD,G,WD,WG=ration(1,2,i)"
   ]
  }
 ],
 "metadata": {
  "kernelspec": {
   "display_name": "Python 3",
   "language": "python",
   "name": "python3"
  },
  "language_info": {
   "codemirror_mode": {
    "name": "ipython",
    "version": 3
   },
   "file_extension": ".py",
   "mimetype": "text/x-python",
   "name": "python",
   "nbconvert_exporter": "python",
   "pygments_lexer": "ipython3",
   "version": "3.7.4"
  }
 },
 "nbformat": 4,
 "nbformat_minor": 2
}
