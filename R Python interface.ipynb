{
 "cells": [
  {
   "cell_type": "markdown",
   "metadata": {},
   "source": [
    "**This R code is integrated in the main experiment code which is written in python**"
   ]
  },
  {
   "cell_type": "code",
   "execution_count": null,
   "metadata": {},
   "outputs": [],
   "source": [
    "suppressWarnings({suppressMessages({\n",
    "          library(mlrMBO)\n",
    "          library(ggplot2)\n",
    "        })})\n",
    "\n",
    "        ps = makeParamSet(\n",
    "          makeIntegerParam(\"power\", lower = 10, upper = 2200),\n",
    "          makeIntegerParam(\"time\", lower = 500, upper = 2000),\n",
    "          makeDiscreteParam(\"gas\", values = c(\"Argon\")),\n",
    "          makeIntegerParam(\"pressure\", lower = 920, upper = 930)\n",
    "        )\n",
    "\n",
    "        ctrl = makeMBOControl(y.name = \"ratio\")\n",
    "        ctrl = setMBOControlInfill(ctrl, opt = \"focussearch\", opt.focussearch.maxit = 10, opt.focussearch.points = 10000, crit = makeMBOInfillCritEI())\n",
    "\n",
    "        data=read.csv(\"dataset-2.csv\")\n",
    "        data<-na.omit(data)\n",
    "        suppressMessages({opt.state = initSMBO(par.set = ps, design = data, control = ctrl, minimize = FALSE, noisy = TRUE)})\n",
    "        print(\"Proposed parameters:\")\n",
    "        prop = suppressWarnings({proposePoints(opt.state)})\n",
    "        print(prop$prop.points)\n",
    "        x<-prop$prop.points\n",
    "        write.table(x, file = \"dataset-2.csv\", sep = \",\", append = TRUE, quote = FALSE,col.names = FALSE, row.names = FALSE)\n",
    "        "
   ]
  },
  {
   "cell_type": "markdown",
   "metadata": {},
   "source": [
    "**The following is the way to integrate R code in Python environment**"
   ]
  },
  {
   "cell_type": "code",
   "execution_count": null,
   "metadata": {},
   "outputs": [],
   "source": [
    "#rpy2 is the package to be installed for R-Python interfacing!\n",
    "import rpy2.robjects as robjects\n",
    "        robjects.r('''\n",
    "        suppressWarnings({suppressMessages({\n",
    "          library(mlrMBO)\n",
    "          library(ggplot2)\n",
    "        })})\n",
    "\n",
    "        ps = makeParamSet(\n",
    "          makeIntegerParam(\"power\", lower = 10, upper = 2200),\n",
    "          makeIntegerParam(\"time\", lower = 500, upper = 2000),\n",
    "          makeDiscreteParam(\"gas\", values = c(\"Argon\")),\n",
    "          makeIntegerParam(\"pressure\", lower = 920, upper = 930)\n",
    "        )\n",
    "\n",
    "        ctrl = makeMBOControl(y.name = \"ratio\")\n",
    "        ctrl = setMBOControlInfill(ctrl, opt = \"focussearch\", opt.focussearch.maxit = 10, opt.focussearch.points = 10000, crit = makeMBOInfillCritEI())\n",
    "\n",
    "        data=read.csv(\"dataset-2.csv\")\n",
    "        data<-na.omit(data)\n",
    "        suppressMessages({opt.state = initSMBO(par.set = ps, design = data, control = ctrl, minimize = FALSE, noisy = TRUE)})\n",
    "        print(\"Proposed parameters:\")\n",
    "        prop = suppressWarnings({proposePoints(opt.state)})\n",
    "        print(prop$prop.points)\n",
    "        x<-prop$prop.points\n",
    "        write.table(x, file = \"dataset-2.csv\", sep = \",\", append = TRUE, quote = FALSE,col.names = FALSE, row.names = FALSE)\n",
    "        ''')"
   ]
  }
 ],
 "metadata": {
  "kernelspec": {
   "display_name": "Python 3",
   "language": "python",
   "name": "python3"
  },
  "language_info": {
   "codemirror_mode": {
    "name": "ipython",
    "version": 3
   },
   "file_extension": ".py",
   "mimetype": "text/x-python",
   "name": "python",
   "nbconvert_exporter": "python",
   "pygments_lexer": "ipython3",
   "version": "3.7.4"
  }
 },
 "nbformat": 4,
 "nbformat_minor": 2
}
