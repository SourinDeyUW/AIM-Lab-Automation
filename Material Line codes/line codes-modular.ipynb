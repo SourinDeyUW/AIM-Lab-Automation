{
 "cells": [
  {
   "cell_type": "markdown",
   "metadata": {},
   "source": [
    "# Make directory"
   ]
  },
  {
   "cell_type": "code",
   "execution_count": null,
   "metadata": {},
   "outputs": [],
   "source": [
    "import os\n",
    "# os.mkdir(r'line stuff')\n",
    "os.chdir(r'C:\\Users\\UWAdmin\\line stuff')"
   ]
  },
  {
   "cell_type": "markdown",
   "metadata": {},
   "source": [
    "## Import libraries"
   ]
  },
  {
   "cell_type": "code",
   "execution_count": null,
   "metadata": {},
   "outputs": [],
   "source": [
    "from threading import *\n",
    "import time \n",
    "from datetime import datetime\n",
    "\n",
    "from datetime import timedelta\n"
   ]
  },
  {
   "cell_type": "code",
   "execution_count": null,
   "metadata": {},
   "outputs": [],
   "source": [
    "#import rpy2.robjects as robjects #r-python interfacing\n",
    "from fits import new_plot_LIG\n",
    "import rpy2.robjects as robjects\n",
    "from pymeasure.instruments import list_resources\n",
    "\n",
    "import ftd2xx  # Thorlabs MFF101\n",
    "import ftd2xx.defines as constants\n",
    "from ftd2xx import listDevices, getDeviceInfoDetail\n",
    "\n",
    "from time import sleep\n",
    "\n",
    "\n",
    "\n",
    "\n",
    "from newportxps import NewportXPS\n",
    "from newportxps.XPS_C8_drivers import XPS, XPSException\n",
    "# import pysftp\n",
    "\n",
    "# from ophyd import EpicsSignal\n",
    "from collections import OrderedDict\n",
    "import yaqc\n",
    "import os\n",
    "import platform\n",
    "\n",
    "\n",
    "\n",
    "\n",
    "import numpy as np\n",
    "import csv\n",
    "\n",
    "\n",
    "xpsd_remoteip = '192.168.254.254'\n",
    "# xpsd_hostip ='192.168.0.254'\n",
    "hostname = 'XPS-1b81'\n",
    "\n",
    "xps = NewportXPS(xpsd_remoteip)\n",
    "print(xps.status_report())\n",
    "\n",
    "\n",
    "xps.kill_group('XYZ')\n",
    "xps.initialize_allgroups()\n",
    "xps.home_allgroups()\n",
    "\n",
    "\n",
    "\n",
    "def pos_all():\n",
    "    for sname, _ in xps.stages.items():\n",
    "        print('{}: {}'.format(sname, xps.get_stage_position(sname)))\n",
    "        \n",
    "        \n",
    "from flipper import *\n",
    "\n",
    "\n"
   ]
  },
  {
   "cell_type": "code",
   "execution_count": null,
   "metadata": {},
   "outputs": [],
   "source": [
    "xps.kill_group('XYZ')\n",
    "xps.initialize_allgroups()\n",
    "xps.home_allgroups()"
   ]
  },
  {
   "cell_type": "markdown",
   "metadata": {},
   "source": [
    "# Import Pressure related functions"
   ]
  },
  {
   "cell_type": "code",
   "execution_count": null,
   "metadata": {
    "scrolled": true
   },
   "outputs": [],
   "source": [
    "\n",
    "from pressure import close_valve,open_valve,close_all,current_pressure,gopr\n",
    "current_pressure()"
   ]
  },
  {
   "cell_type": "markdown",
   "metadata": {},
   "source": [
    "# Import Laser related functions"
   ]
  },
  {
   "cell_type": "code",
   "execution_count": null,
   "metadata": {},
   "outputs": [],
   "source": [
    "from pymeasure.instruments.lighthousephotonics import Sprout\n",
    "laser_power = Sprout('COM4')\n",
    "laser_power.adapter.connection.baud_rate = 19200\n",
    "laser_power.adapter.connection.read_termination = '\\r'\n",
    "laser_power.adapter.connection.write_termination = '\\r'\n",
    "laser_power.power=0.01"
   ]
  },
  {
   "cell_type": "markdown",
   "metadata": {},
   "source": [
    "# Launch the LightField / Spectrometer"
   ]
  },
  {
   "cell_type": "code",
   "execution_count": null,
   "metadata": {},
   "outputs": [],
   "source": [
    "from spectra import *\n",
    "capture_photo(\"start\",2,1,0) "
   ]
  },
  {
   "cell_type": "markdown",
   "metadata": {},
   "source": [
    "# Vacuum the chamber"
   ]
  },
  {
   "cell_type": "code",
   "execution_count": null,
   "metadata": {},
   "outputs": [],
   "source": [
    "# We should release out the the gas from chamber first, Do it by releasing the out valve .\n",
    "# close_all()\n",
    "\n",
    "open_valve('out')\n",
    "\n",
    "#make sure pressure dropped to <20 psi. check it\n",
    "\n",
    "current_pressure()"
   ]
  },
  {
   "cell_type": "code",
   "execution_count": null,
   "metadata": {},
   "outputs": [],
   "source": [
    "# once done, close the open valve \n",
    "\n",
    "close_valve('out')\n",
    "\n",
    "#now we need to vaccum the chamber, make sure all valves are closed\n",
    "#then open the vacuum valve\n",
    "\n",
    "close_all()\n",
    "\n",
    "open_valve('vac')"
   ]
  },
  {
   "cell_type": "code",
   "execution_count": null,
   "metadata": {},
   "outputs": [],
   "source": [
    "#once done, close the vacuum\n",
    "\n",
    "close_all()\n",
    "\n",
    "#you may want to check the pressure again\n",
    "\n",
    "current_pressure()"
   ]
  },
  {
   "cell_type": "markdown",
   "metadata": {},
   "source": [
    "# Adjust the pressure"
   ]
  },
  {
   "cell_type": "code",
   "execution_count": null,
   "metadata": {
    "scrolled": true
   },
   "outputs": [],
   "source": [
    "for i in range(5): gopr(120)\n",
    "current_pressure()"
   ]
  },
  {
   "cell_type": "code",
   "execution_count": null,
   "metadata": {},
   "outputs": [],
   "source": [
    "current_pressure()"
   ]
  },
  {
   "cell_type": "markdown",
   "metadata": {},
   "source": [
    "# Position the motion controller"
   ]
  },
  {
   "cell_type": "code",
   "execution_count": null,
   "metadata": {
    "scrolled": true
   },
   "outputs": [],
   "source": [
    "#pos_all() tells about current position of the motion controller\n",
    "\n",
    "pos_all()\n",
    "\n",
    "\n",
    "xps.move_stage('XYZ.Pos1',8) #moves x axis\n",
    "xps.move_stage('XYZ.Pos2',11) #moves y axis\n",
    "xps.move_stage('XYZ.Pos3',0) #moves z axis"
   ]
  },
  {
   "cell_type": "markdown",
   "metadata": {},
   "source": [
    "# Control the laser power and switch on/off the mirror"
   ]
  },
  {
   "cell_type": "code",
   "execution_count": null,
   "metadata": {},
   "outputs": [],
   "source": [
    "laser_power.power=0.01"
   ]
  },
  {
   "cell_type": "code",
   "execution_count": null,
   "metadata": {},
   "outputs": [],
   "source": [
    "from flipper import mirror\n",
    "\n",
    "mirror(\"on\")\n",
    "\n",
    "mirror(\"off\")"
   ]
  },
  {
   "cell_type": "code",
   "execution_count": null,
   "metadata": {},
   "outputs": [],
   "source": [
    "mirror(\"off\")"
   ]
  },
  {
   "cell_type": "markdown",
   "metadata": {},
   "source": [
    "# Option 1: Prepare initial Data "
   ]
  },
  {
   "cell_type": "code",
   "execution_count": null,
   "metadata": {},
   "outputs": [],
   "source": [
    "\n",
    "power=[]\n",
    "time=[]\n",
    "pressure=[]\n",
    "gas=[]\n",
    "print(\"Enter number of initial samples: \")\n",
    "n=int(input())\n",
    "for x in range(n):\n",
    "    powr=np.random.randint(150,1000)\n",
    "    tm=np.random.randint(1001,5000)\n",
    "    pr=np.random.randint(100,1000)\n",
    "    for i in range(9):\n",
    "        power.append(powr)\n",
    "        time.append(tm)\n",
    "        pressure.append(pr)\n",
    "\n",
    "    \n",
    "from datetime import date\n",
    "\n",
    "p=str(date.today())\n",
    "# path=r'C:\\Users\\UWAdmin\\line stuff'\n",
    "import os\n",
    "# os.chdir(path)\n",
    "# os.mkdir('Campaign ' + p)\n",
    "# os.chdir('Campaign ' + p)\n",
    "row=['power','time','pressure','ratio']\n",
    "\n",
    "\n",
    "\n",
    "with open('dataset.csv', 'w', newline='') as f:\n",
    "        writer = csv.writer(f)\n",
    "        writer.writerow(row)\n",
    "        writer.writerows(zip(power,time,pressure))\n",
    "\n",
    "        \n",
    "with open('dataset-pre.csv', 'w', newline='') as f:\n",
    "        writer = csv.writer(f)\n",
    "        writer.writerow(row)\n",
    "        writer.writerows(zip(power,time,pressure))\n",
    "\n",
    "# os.chdir(path)\n",
    "\n",
    "df2=pd.read_csv('dataset.csv')\n",
    "df2=df2.drop_duplicates()\n",
    "df2.head()\n",
    "df2.to_csv('data.csv',index=False)"
   ]
  },
  {
   "cell_type": "markdown",
   "metadata": {},
   "source": [
    "# Option 2: customize your dataset"
   ]
  },
  {
   "cell_type": "code",
   "execution_count": null,
   "metadata": {},
   "outputs": [],
   "source": [
    "df=pd.DataFrame(columns=['power','time','pressure','ratio'])\n",
    "df.to_csv('data.csv',index=False)\n",
    "\n"
   ]
  },
  {
   "cell_type": "code",
   "execution_count": null,
   "metadata": {},
   "outputs": [],
   "source": []
  },
  {
   "cell_type": "markdown",
   "metadata": {},
   "source": [
    "# Adjust the z axis"
   ]
  },
  {
   "cell_type": "code",
   "execution_count": null,
   "metadata": {},
   "outputs": [],
   "source": [
    "\n",
    "def adjust(start,stop,step):\n",
    "    #st is the starting position of the z axis\n",
    "    #step is the increment of the z axis\n",
    "    line=1\n",
    "#     import timeit\n",
    "#     begin=8.7\n",
    "#     start = timeit.default_timer()\n",
    "    import time\n",
    "    \n",
    "     \n",
    "    \n",
    "    iteration=(stop-start)/step\n",
    "    zz=[float(start)+(step*i) for i in range(int(iteration+1))]\n",
    "    print(zz)\n",
    "    intensity=[]\n",
    "    for i in range(len(zz)):\n",
    "        time.sleep(4)\n",
    "\n",
    "        xps.move_stage('XYZ.Pos3',zz[i])\n",
    "        time.sleep(1)\n",
    "        p=capture_photo('adjust',i,line,1)\n",
    "        intensity.append(p)\n",
    "    mirror('off')\n",
    "   # stop = timeit.default_timer()\n",
    "\n",
    "    #print('Time: ', stop - start)  \n",
    "#     print(intensity)\n",
    "\n",
    "    import numpy as np\n",
    "    ix=intensity.index(np.max(intensity))\n",
    "    xps.move_stage('XYZ.Pos3',zz[ix])\n",
    "    print(\"adjusted z position is: \",zz[ix])\n",
    "    return zz[ix]"
   ]
  },
  {
   "cell_type": "code",
   "execution_count": null,
   "metadata": {},
   "outputs": [],
   "source": [
    "print(\"enter start, stop, increment for z axis adjustment: \")\n",
    "\n",
    "adjust(8.5,8.9,0.05)  # the z axis starts at 6, stops at 8 and increment is 0.2 "
   ]
  },
  {
   "cell_type": "markdown",
   "metadata": {},
   "source": [
    "## Define thread class"
   ]
  },
  {
   "cell_type": "code",
   "execution_count": null,
   "metadata": {},
   "outputs": [],
   "source": [
    "class Aa(Thread):\n",
    "#     def kill(self): \n",
    "#         self.killed = True\n",
    "    def run(self):\n",
    "#         for i in range(1):\n",
    "        if d['ramptime'][0]<0.5:\n",
    "            time.sleep(.5-d['ramptime'][0])\n",
    "        print(\"motion controller started\")\n",
    "        xps.run_trajectory('foreward',)\n",
    "#             xps.move_stage('XYZ.X',5)\n",
    "           # xps.move_stage('XYZ.Y',5)\n",
    "        time.sleep(total_time)\n",
    "        laser_power.power=0.01\n",
    "        print(\"finisherd and current position is:\\n\")\n",
    "        pos_all()\n",
    "#         while(True):\n",
    "#             global stop_threads \n",
    "#             if stop_threads: \n",
    "#                 break\n",
    "        \n",
    "class Bb(Thread):\n",
    "#     def kill(self): \n",
    "#         self.killed = True\n",
    "    def run(self):\n",
    "        for i in range(2):\n",
    "           \n",
    "            if i==0:\n",
    "                if d['ramptime'][0]<0.5:\n",
    "                    print(\"mirror on\")\n",
    "        #                 start_time = datetime.now()\n",
    "                    start_time = time.monotonic()\n",
    "                    mirror('on')\n",
    "        #                 end_time = datetime.now()\n",
    "                    end_time = time.monotonic()\n",
    "        #                 print(\"time to put the mirror on: \",start_time-end_time)\n",
    "                    print(timedelta(seconds=end_time - start_time))\n",
    "                    time.sleep(d['ramptime'][1]) #time for linear line    \n",
    "\n",
    "                else:\n",
    "                    time.sleep(mirror_sleep)\n",
    "                \n",
    "                    print(\"mirror on\")\n",
    "    #                 start_time = datetime.now()\n",
    "                    start_time = time.monotonic()\n",
    "                    mirror('on')\n",
    "    #                 end_time = datetime.now()\n",
    "                    end_time = time.monotonic()\n",
    "    #                 print(\"time to put the mirror on: \",start_time-end_time)\n",
    "                    print(timedelta(seconds=end_time - start_time))\n",
    "                    time.sleep(d['ramptime'][1]) #time for linear line\n",
    "            else:\n",
    "                mirror('off')\n",
    "                print(\"mirror off\")"
   ]
  },
  {
   "cell_type": "code",
   "execution_count": null,
   "metadata": {},
   "outputs": [],
   "source": [
    "def take_median(i,idx):\n",
    "    \n",
    "    print(os.getcwd())\n",
    "\n",
    "    df=pd.read_csv('dataset.csv')\n",
    "\n",
    "    lth=len(df['ratio'])\n",
    "    k=i\n",
    "    median=[]\n",
    "\n",
    "    valss=np.sort([df['ratio'][k+8],df['ratio'][k+7],df['ratio'][k+6],df['ratio'][k+5],df['ratio'][k+4],df['ratio'][k+3],\n",
    "                   df['ratio'][k+2],df['ratio'][k+1],df['ratio'][k]])\n",
    "    print(valss)\n",
    "\n",
    "    lst=[float(s) for s in valss if str(s)!='nan']\n",
    "    print(valss[1])    \n",
    "   # return valss[1]\n",
    "    print(type(lst[0]))\n",
    "    result=np.mean(lst)\n",
    "    df2=pd.read_csv('data.csv')\n",
    "\n",
    "    df2.loc[idx,\"ratio\"]=result\n",
    "    df2.to_csv('data.csv',index=False)\n",
    "    return result"
   ]
  },
  {
   "cell_type": "markdown",
   "metadata": {},
   "source": [
    "## Section (A) : Insert line number, parameters for the line and then define the line coordinate details"
   ]
  },
  {
   "cell_type": "code",
   "execution_count": null,
   "metadata": {},
   "outputs": [],
   "source": [
    "\n",
    "from fits import new_plot_LIG\n",
    "\n",
    "#Please remember indexing begins from 0.\n",
    "\n",
    "df=pd.read_csv('data.csv')\n",
    "print(\"Enter Line Number: \")\n",
    "line_no=int(input())\n",
    "\n",
    "print(\"Enter your power, time, pressure for line number \", line_no)\n",
    "powr,tm,pr=input().split()\n",
    "\n",
    "df.loc[line_no,'power']=powr\n",
    "df.loc[line_no,'time']=tm\n",
    "df.loc[line_no,'pressure']=pr\n",
    "\n",
    "df.to_csv('data.csv',index=False)\n",
    "\n",
    "\n",
    "power=[]\n",
    "time=[]\n",
    "pressure=[]\n",
    "for i in range(9):\n",
    "        power.append(powr)\n",
    "        time.append(tm)\n",
    "        pressure.append(pr)\n",
    "\n",
    "row=['power','time','pressure','ratio']\n",
    "with open('dataset.csv', 'a', newline='') as f:\n",
    "        writer = csv.writer(f)\n",
    "        if line_no==0:writer.writerow(row)\n",
    "        writer.writerows(zip(power,time,pressure))\n",
    "\n",
    "        \n",
    "with open('dataset-pre.csv', 'a', newline='') as f:\n",
    "        writer = csv.writer(f)\n",
    "        if line_no==0:writer.writerow(row)\n",
    "        writer.writerows(zip(power,time,pressure))"
   ]
  },
  {
   "cell_type": "markdown",
   "metadata": {},
   "source": [
    "# Section (B) :"
   ]
  },
  {
   "cell_type": "code",
   "execution_count": null,
   "metadata": {},
   "outputs": [],
   "source": [
    "\n",
    "\n",
    "\n",
    "# df=pd.read_csv(\"dataset.csv\")\n",
    "# df.head()\n",
    "\n",
    "\n",
    "print(\"Enter number of lines, starting point for x axis, y axis and step size for y axis:\")\n",
    "\n",
    "\n",
    "lines,startx,starty,step_y= [x for x in input().split()]\n",
    "\n",
    "print(lines,startx,starty,step_y)\n",
    "move_y=[0 for i in range(int(lines))]\n",
    "# print(move_y)\n",
    "\n",
    "# move_y=[(float(move_y[i-1])+float(step_y)) if i!=0 else float(starty)  for i in range(int(lines))]\n",
    "\n",
    "\n",
    "# for i in range(int(lines)):\n",
    "# #     print(i)\n",
    "#     if i==0: move_y[i]=float(starty)\n",
    "#     if i>0 :\n",
    "#         move_y[i]=float(move_y[i-1])+float(step_y)\n",
    "# #         print(move_y[i-1]+float(step_y))\n",
    "\n",
    "move_y=float(starty)\n",
    "\n",
    "print(\"Lines will be made at following y axis:\",move_y,\"\\n\")\n",
    "\n"
   ]
  },
  {
   "cell_type": "code",
   "execution_count": null,
   "metadata": {},
   "outputs": [],
   "source": [
    "move_y"
   ]
  },
  {
   "cell_type": "markdown",
   "metadata": {},
   "source": [
    "Enter number of lines, starting point for x axis, y axis and step size for y axis:\n",
    "4 4.2 7 .5"
   ]
  },
  {
   "cell_type": "markdown",
   "metadata": {},
   "source": [
    "# Section (C) :"
   ]
  },
  {
   "cell_type": "code",
   "execution_count": null,
   "metadata": {},
   "outputs": [],
   "source": [
    "df2=pd.read_csv('data.csv')\n",
    "print(\"Patterning is to be started\\n\")\n",
    "import time\n",
    "time.sleep(5)\n",
    "cc=0\n",
    "steps=0\n",
    "\n",
    "for i in range(line_no,line_no+1):\n",
    "    print(\"Line number: \",i)\n",
    "    line=i\n",
    "    \n",
    "    #move the axes to their start position\n",
    "    \n",
    "#     xps.move_stage('XYZ.Pos2',move_y[i])\n",
    "    xps.move_stage('XYZ.Pos2',move_y)\n",
    "    pos_all()\n",
    "    print(\"\\n\\n\")\n",
    "    df2=pd.read_csv('data.csv')\n",
    "    time_of_file=df2['time'][i]\n",
    "    #scantime=time_of_file/1000\n",
    "    #define the trajectory\n",
    "    \n",
    "    xps.define_line_trajectories(start=float(startx),\n",
    "                             stop=float(startx)+5,\n",
    "                             step=0.01,\n",
    "                             scantime=(time_of_file/1000),\n",
    "                             axis='Pos1')\n",
    "    \n",
    "    print(\"\\nCurrent time is:\",time_of_file)\n",
    "        \n",
    "    pressure_of_file=df2['pressure'][i]\n",
    "    for ip in range(5):gopr(pressure_of_file)\n",
    "\n",
    "    print(\"\\n Pressure is now : \",pressure_of_file,\"\\n\")\n",
    "    \n",
    "#     k+=3\n",
    "    xps.download_trajectory('foreward.trj')\n",
    "    import pandas as pd\n",
    "    d = pd.read_csv('foreward.trj',header=None) # scantime 2 (see segment 1 or row1)\n",
    "    d = d.loc[:, (d != 0).any(axis=0)]\n",
    "    d.columns = ['ramptime','rampdist','rampvel']\n",
    "\n",
    "   \n",
    "    \n",
    "    \n",
    "    total_time=np.sum(d['ramptime'])\n",
    "    mirror_sleep=d['ramptime'][0]-.5\n",
    "    \n",
    "    \n",
    "    #power will be set to assigned value and make sure mirror is off and power is given enough time to reach it's value\n",
    "   \n",
    "    power_of_file=df2[\"power\"][i]\n",
    "    ij=3\n",
    "  \n",
    "\n",
    "##################\n",
    "\n",
    "    print(\"pre-pattern checking\\n\")\n",
    " #   check=[(float(startx)+.4),float(startx)+.8,(float(startx)+1.2)]\n",
    "\n",
    "    a=0.19\n",
    "    check=[ float(startx)+(a*i)+0.1 for i in range(10)]\n",
    "    mm=0\n",
    "    for kk in range(3):\n",
    "        xps.move_stage('XYZ.Pos1',check[kk])\n",
    "        print(pos_all())\n",
    "        \n",
    "        for iii in range(3):\n",
    "            mirror(\"on\")\n",
    "            #writing G/D of 3 spots in 3 lines inside dataset.csv\n",
    "    #         capture_photo(\"on\",kk,line)\n",
    "            print(\"hey\")\n",
    "            GD=capture_photo(\"first\",kk,line,iii)\n",
    "\n",
    "            mirror(\"off\")\n",
    "            time.sleep(5)\n",
    "    \n",
    " \n",
    "############### \n",
    "\n",
    "#     print(\"pre-pattern checking done\\n\")\n",
    "    print(\"power is now:\",power_of_file)\n",
    "    xps.move_stage('XYZ.Pos1',(float(startx)-d['rampdist'][0]))\n",
    "    pos_all()\n",
    "    time.sleep(15)\n",
    "    print(\"\\n\\n\")\n",
    "    mirror(\"off\")\n",
    "    a=power_of_file\n",
    "    laser_power.power=((a-2.7979)/0.4639)/1000\n",
    "    time.sleep(15)\n",
    "    \n",
    "    ##Draw Lines\n",
    "    time.sleep(5)\n",
    "    \n",
    "    \n",
    "    \n",
    "    \n",
    "    import sys\n",
    "    a=Aa()\n",
    "    b=Bb()\n",
    "    # stop_threads = False\n",
    "    a.start()\n",
    "    b.start()\n",
    "    \n",
    "    a.join()\n",
    "    b.join()\n",
    "    time.sleep(10)\n",
    "    print(\"\\n Job done\\n\")\n",
    "    \n",
    "    \n",
    "    \n",
    "    ##raman spectra analysis\n",
    "    laser_power.power=0.01\n",
    "    time.sleep(15)\n",
    "    \n",
    "    \n",
    "#     xps.move_stage('XYZ.Pos1',6.5)\n",
    "#     xps.move_stage('XYZ.Pos2',9.5)\n",
    "#     xps.move_stage('XYZ.Pos3',8.25)\n",
    "    \n",
    "    \n",
    "\n",
    "\n",
    "    "
   ]
  },
  {
   "cell_type": "code",
   "execution_count": null,
   "metadata": {},
   "outputs": [],
   "source": [
    "mirror(\"off\")"
   ]
  },
  {
   "cell_type": "code",
   "execution_count": null,
   "metadata": {
    "scrolled": false
   },
   "outputs": [],
   "source": [
    "a=0.19\n",
    "check=[float(startx)+(a*i)+0.1 for i in range(10)]\n",
    "mm=0\n",
    "\n",
    "\n",
    "print(\"line drawn, post pattern starts\")\n",
    "\n",
    "for kk in range(3):\n",
    "    xps.move_stage('XYZ.Pos1',check[kk])\n",
    "    print(pos_all())\n",
    "\n",
    "    for iii in range(1):\n",
    "        mirror(\"on\")\n",
    "        #writing G/D of 3 spots in 3 lines inside dataset.csv\n",
    "#         capture_photo(\"on\",kk,line)\n",
    "        print(\"post patterning...\")\n",
    "        GD=capture_photo(\"on\",kk,line,iii)\n",
    "\n",
    "        mirror(\"off\")\n",
    "        time.sleep(5)     \n",
    "        \n",
    "\n",
    " ### The following code saves spectra by reading the csv files. \n",
    " ### For example: if current line number is 3, following codes will find the csvs that start with \" line 0 ...\" and will save \n",
    " ### raman spectra for all the files whose name starts with line 0        \n",
    "\n",
    "\n",
    "\n",
    "one=[]\n",
    "bg=[]\n",
    "fit=[]\n",
    "\n",
    "\n",
    "a=\"line \"\n",
    "b=str(i)+\"*.csv\"\n",
    "c=a+b\n",
    "for file in glob.glob(c):one.append(f\"{file}\")\n",
    "for file in glob.glob(\"background*.csv\"):bg.append(f\"{file}\")    \n",
    "print(len(one))\n",
    "\n",
    "increment=0\n",
    "line_number=i\n",
    "for ix in range(int(len(one)/2)):\n",
    "    d1 = pd.read_csv(one[increment])\n",
    "    d2 = pd.read_csv(one[increment+1])\n",
    "    _d1 = pd.read_csv(bg[0])\n",
    "    _d2 = pd.read_csv(bg[1])\n",
    "    increment+=2\n",
    "    f=new_plot_LIG(d1,d2,_d1,_d2,ix,line_number)\n",
    "    print(ix)\n",
    "    fit.append(f)    "
   ]
  },
  {
   "cell_type": "markdown",
   "metadata": {},
   "source": [
    "# write_more() reads the latest proposal from data.csv and writes them in dataset.csv and dataset-pre.csv. The function repeats() writes two more times in both of the csvs."
   ]
  },
  {
   "cell_type": "code",
   "execution_count": null,
   "metadata": {},
   "outputs": [],
   "source": [
    "def write_more():\n",
    "    d=pd.read_csv('data.csv')\n",
    "    ln=d.shape[0]\n",
    "\n",
    "    vpower=d['power'][ln-1]\n",
    "    vtime=d['time'][ln-1]\n",
    "    vpressure=d['pressure'][ln-1]\n",
    "\n",
    "    d1=pd.read_csv('dataset.csv')\n",
    "    ln=d1.shape[0]\n",
    "    d1.loc[ln,\"power\"]=vpower\n",
    "    d1.loc[ln,\"time\"]=vtime\n",
    "    d1.loc[ln,\"pressure\"]=vpressure\n",
    "    d1.to_csv('dataset.csv',index=False)\n",
    "    d1.to_csv('dataset-pre.csv',index=False)\n",
    "    \n",
    "\n",
    "def repeats():\n",
    "    d1=pd.read_csv('data.csv')\n",
    "    df2=pd.read_csv('dataset.csv')\n",
    "    ln=len(df2['power'])\n",
    "    m=ln\n",
    "    print(ln)\n",
    "    counter=m\n",
    "    for i in range(8):\n",
    "        toAdd = [df2['power'][m-1],df2['time'][m-1],df2['pressure'][m-1]]\n",
    "        filename=\"dataset.csv\"\n",
    "        with open(filename, \"r\") as infile:\n",
    "            reader = list(csv.reader(infile))\n",
    "            reader.insert(counter+1, toAdd)\n",
    "\n",
    "        with open(filename, \"w\", newline='') as outfile:\n",
    "            writer = csv.writer(outfile)\n",
    "            for line in reader:\n",
    "                writer.writerow(line)\n",
    "                \n",
    "    for i in range(8):\n",
    "        toAdd = [df2['power'][m-1],df2['time'][m-1],df2['pressure'][m-1]]\n",
    "        filename=\"dataset-pre.csv\"\n",
    "        with open(filename, \"r\") as infile:\n",
    "            reader = list(csv.reader(infile))\n",
    "            reader.insert(counter+1, toAdd)\n",
    "\n",
    "        with open(filename, \"w\", newline='') as outfile:\n",
    "            writer = csv.writer(outfile)\n",
    "            for line in reader:\n",
    "                writer.writerow(line)"
   ]
  },
  {
   "cell_type": "markdown",
   "metadata": {},
   "source": [
    "# Switch off Laser after experiment is finished"
   ]
  },
  {
   "cell_type": "code",
   "execution_count": null,
   "metadata": {},
   "outputs": [],
   "source": [
    "laser_power.write(\"OPMODE=OFF\")"
   ]
  }
 ],
 "metadata": {
  "kernelspec": {
   "display_name": "Python 3",
   "language": "python",
   "name": "python3"
  },
  "language_info": {
   "codemirror_mode": {
    "name": "ipython",
    "version": 3
   },
   "file_extension": ".py",
   "mimetype": "text/x-python",
   "name": "python",
   "nbconvert_exporter": "python",
   "pygments_lexer": "ipython3",
   "version": "3.7.3"
  }
 },
 "nbformat": 4,
 "nbformat_minor": 2
}
