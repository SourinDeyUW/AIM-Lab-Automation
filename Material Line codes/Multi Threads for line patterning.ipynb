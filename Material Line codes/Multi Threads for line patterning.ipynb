{
 "cells": [
  {
   "cell_type": "code",
   "execution_count": null,
   "metadata": {},
   "outputs": [],
   "source": [
    "from threading import *\n",
    "import time \n",
    "from datetime import datetime\n",
    "from datetime import timedelta"
   ]
  },
  {
   "cell_type": "markdown",
   "metadata": {},
   "source": [
    "# Thread motion and mirror works simultaneously\n",
    "\n",
    "thread motion controls the motion controller, when it corsses the non-linear velocity , thread mirror starts working until patterning is completed."
   ]
  },
  {
   "cell_type": "code",
   "execution_count": null,
   "metadata": {},
   "outputs": [],
   "source": [
    "class motion(Thread):\n",
    "\n",
    "    def run(self):\n",
    "\n",
    "        if d['ramptime'][0]<0.5:\n",
    "            time.sleep(.5-d['ramptime'][0])\n",
    "        print(\"motion controller started\")\n",
    "        xps.run_trajectory('foreward',)\n",
    "        time.sleep(total_time)\n",
    "        laser_power.power=0.01\n",
    "        print(\"finisherd and current position is:\\n\")\n",
    "        pos_all()\n",
    "\n",
    "class mirror(Thread):\n",
    "\n",
    "    def run(self):\n",
    "        for i in range(2):\n",
    "           \n",
    "            if i==0:\n",
    "                if d['ramptime'][0]<0.5:\n",
    "                    print(\"mirror on\")\n",
    "                    start_time = time.monotonic()\n",
    "                    mirror('on')\n",
    "                    end_time = time.monotonic()\n",
    "                    print(timedelta(seconds=end_time - start_time))\n",
    "                    time.sleep(d['ramptime'][1]) #time for linear line    \n",
    "\n",
    "                else:\n",
    "                    time.sleep(mirror_sleep)\n",
    "                    print(\"mirror on\")\n",
    "                    start_time = time.monotonic()\n",
    "                    mirror('on')\n",
    "                    end_time = time.monotonic()\n",
    "                    print(timedelta(seconds=end_time - start_time))\n",
    "                    time.sleep(d['ramptime'][1]) #time for linear line\n",
    "            else:\n",
    "                mirror('off')\n",
    "                print(\"mirror off\")"
   ]
  },
  {
   "cell_type": "code",
   "execution_count": null,
   "metadata": {},
   "outputs": [],
   "source": [
    "a=motion()\n",
    "b=mirror()\n",
    "# stop_threads = False\n",
    "\n",
    "##begin the threads\n",
    "a.start()\n",
    "b.start()\n",
    "\n",
    "#suspend any other operations until threads finishes\n",
    "a.join()\n",
    "b.join()"
   ]
  }
 ],
 "metadata": {
  "kernelspec": {
   "display_name": "Python 3",
   "language": "python",
   "name": "python3"
  },
  "language_info": {
   "codemirror_mode": {
    "name": "ipython",
    "version": 3
   },
   "file_extension": ".py",
   "mimetype": "text/x-python",
   "name": "python",
   "nbconvert_exporter": "python",
   "pygments_lexer": "ipython3",
   "version": "3.7.3"
  }
 },
 "nbformat": 4,
 "nbformat_minor": 2
}
