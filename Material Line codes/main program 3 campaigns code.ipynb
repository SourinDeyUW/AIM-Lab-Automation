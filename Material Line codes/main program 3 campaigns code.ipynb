{
 "cells": [
  {
   "cell_type": "markdown",
   "metadata": {},
   "source": [
    "**Import file named as pressure.py for the Pressure**\n"
   ]
  },
  {
   "cell_type": "code",
   "execution_count": null,
   "metadata": {},
   "outputs": [],
   "source": [
    "path=r'C:\\Users\\UWAdmin\\Desktop\\AIM-Lab-Automation-master\\AIM-Lab-Automation-master\\codes'\n",
    "import os\n",
    "os.chdir(path)\n",
    "\n",
    "from pressure import close_valve,open_valve,close_all,current_pressure,gopr\n",
    "current_pressure()"
   ]
  },
  {
   "cell_type": "code",
   "execution_count": null,
   "metadata": {},
   "outputs": [],
   "source": [
    "pip install pyModbusTCP"
   ]
  },
  {
   "cell_type": "code",
   "execution_count": null,
   "metadata": {},
   "outputs": [],
   "source": [
    "import os\n",
    "os.getcwd()"
   ]
  },
  {
   "cell_type": "code",
   "execution_count": null,
   "metadata": {},
   "outputs": [],
   "source": [
    "close_all()\n",
    "\n",
    "current_pressure()"
   ]
  },
  {
   "cell_type": "code",
   "execution_count": null,
   "metadata": {},
   "outputs": [],
   "source": [
    "gopr(150)"
   ]
  },
  {
   "cell_type": "code",
   "execution_count": null,
   "metadata": {},
   "outputs": [],
   "source": [
    "pip install pymeasure"
   ]
  },
  {
   "cell_type": "code",
   "execution_count": null,
   "metadata": {},
   "outputs": [],
   "source": [
    "open_valve('out')\n"
   ]
  },
  {
   "cell_type": "code",
   "execution_count": null,
   "metadata": {},
   "outputs": [],
   "source": [
    "mirror('off')"
   ]
  },
  {
   "cell_type": "markdown",
   "metadata": {},
   "source": [
    "**Make sure all the valves are closed and check the current pressure**"
   ]
  },
  {
   "cell_type": "code",
   "execution_count": null,
   "metadata": {},
   "outputs": [],
   "source": [
    "import time\n",
    "for i in range(4):\n",
    "    time.sleep(0.1)\n",
    "    gopr(102)\n",
    "close_all()\n",
    "current_pressure()\n"
   ]
  },
  {
   "cell_type": "code",
   "execution_count": null,
   "metadata": {},
   "outputs": [],
   "source": [
    "open_valve('out')"
   ]
  },
  {
   "cell_type": "code",
   "execution_count": null,
   "metadata": {},
   "outputs": [],
   "source": [
    "current_pressure()"
   ]
  },
  {
   "cell_type": "code",
   "execution_count": null,
   "metadata": {},
   "outputs": [],
   "source": [
    "close_all()"
   ]
  },
  {
   "cell_type": "markdown",
   "metadata": {},
   "source": [
    "**Vaccum the chamber**"
   ]
  },
  {
   "cell_type": "code",
   "execution_count": null,
   "metadata": {},
   "outputs": [],
   "source": [
    "open_valve('vac')"
   ]
  },
  {
   "cell_type": "code",
   "execution_count": null,
   "metadata": {},
   "outputs": [],
   "source": [
    "print(i)"
   ]
  },
  {
   "cell_type": "markdown",
   "metadata": {},
   "source": [
    "**Create Initial random dataset**"
   ]
  },
  {
   "cell_type": "code",
   "execution_count": null,
   "metadata": {},
   "outputs": [],
   "source": [
    "##Create the initial random dataset\n",
    "\n",
    "import numpy as np\n",
    "import csv\n",
    "power=[]\n",
    "time=[]\n",
    "pressure=[]\n",
    "gas=[]\n",
    "print(\"Enter number of initial samples: \")\n",
    "n=int(input())\n",
    "for x in range(n):\n",
    "    powr=np.random.randint(150,5000)\n",
    "    tm=np.random.randint(500,10000)\n",
    "    pr=np.random.randint(100,1000)\n",
    "    for i in range(3):\n",
    "        power.append(powr)\n",
    "        time.append(tm)\n",
    "        pressure.append(pr)\n",
    "\n",
    "    \n",
    "from datetime import date\n",
    "\n",
    "p=str(date.today())\n",
    "path=r'C:\\Users\\UWAdmin\\Desktop\\AIM-Lab-Automation-master\\AIM-Lab-Automation-master\\codes'\n",
    "import os\n",
    "os.chdir(path)\n",
    "os.mkdir('Campaign ' + p)\n",
    "os.chdir('Campaign ' + p)\n",
    "row=['power','time','pressure','ratio']\n",
    "with open('dataset.csv', 'w', newline='') as f:\n",
    "        writer = csv.writer(f)\n",
    "        writer.writerow(row)\n",
    "        writer.writerows(zip(power,time,pressure))\n",
    "        \n",
    "os.chdir(path)"
   ]
  },
  {
   "cell_type": "code",
   "execution_count": null,
   "metadata": {},
   "outputs": [],
   "source": [
    "import os\n",
    "#path=r'C:\\Users\\UWAdmin\\Desktop\\AIM-Lab-Automation-master\\AIM-Lab-Automation-master\\codes'\n",
    "os.chdir(r'C:\\Users\\UWAdmin\\Desktop\\AIM-Lab-Automation-master\\AIM-Lab-Automation-master\\codes\\Campaign 2020-10-28')\n",
    "os.getcwd()"
   ]
  },
  {
   "cell_type": "markdown",
   "metadata": {},
   "source": [
    "## Run the sections A, B, C, D sequentially. Then the main program is ready to run and conduct experiment."
   ]
  },
  {
   "cell_type": "markdown",
   "metadata": {},
   "source": [
    "## (A) Next cells before B are to initiate motion controller."
   ]
  },
  {
   "cell_type": "code",
   "execution_count": null,
   "metadata": {},
   "outputs": [],
   "source": [
    "#from pymeasure.instruments.newport import ESP300\n",
    "from pymeasure.instruments import list_resources\n",
    "\n",
    "import ftd2xx  # Thorlabs MFF101\n",
    "import ftd2xx.defines as constants\n",
    "from ftd2xx import listDevices, getDeviceInfoDetail\n",
    "\n",
    "from time import sleep"
   ]
  },
  {
   "cell_type": "code",
   "execution_count": null,
   "metadata": {},
   "outputs": [],
   "source": [
    "from newportxps import NewportXPS\n",
    "from newportxps.XPS_C8_drivers import XPS, XPSException\n",
    "# import pysftp\n",
    "\n",
    "# from ophyd import EpicsSignal\n",
    "from collections import OrderedDict\n",
    "import yaqc\n",
    "import os\n",
    "import platform"
   ]
  },
  {
   "cell_type": "code",
   "execution_count": null,
   "metadata": {},
   "outputs": [],
   "source": [
    "xpsd_remoteip = '192.168.254.254'\n",
    "# xpsd_hostip ='192.168.0.254'\n",
    "hostname = 'XPS-1b81'\n",
    "\n",
    "xps = NewportXPS(xpsd_remoteip)\n",
    "print(xps.status_report())"
   ]
  },
  {
   "cell_type": "code",
   "execution_count": null,
   "metadata": {},
   "outputs": [],
   "source": [
    "print(xps.status_report())"
   ]
  },
  {
   "cell_type": "code",
   "execution_count": null,
   "metadata": {},
   "outputs": [],
   "source": [
    "xps.stages"
   ]
  },
  {
   "cell_type": "code",
   "execution_count": null,
   "metadata": {},
   "outputs": [],
   "source": [
    "# xps.define_line_trajectories('X', group=None,\n",
    "# #                                  start=0, stop=1, step=0.001, scantime=10.0,\n",
    "#                                  accel=None, upload=True, verbose=False)"
   ]
  },
  {
   "cell_type": "code",
   "execution_count": null,
   "metadata": {},
   "outputs": [],
   "source": [
    "xps.kill_group('XYZ')\n",
    "xps.initialize_allgroups()\n",
    "xps.home_allgroups()"
   ]
  },
  {
   "cell_type": "code",
   "execution_count": null,
   "metadata": {},
   "outputs": [],
   "source": [
    "def pos_all():\n",
    "    for sname, _ in xps.stages.items():\n",
    "        print('{}: {}'.format(sname, xps.get_stage_position(sname)))"
   ]
  },
  {
   "cell_type": "code",
   "execution_count": null,
   "metadata": {},
   "outputs": [],
   "source": [
    "pos_all()"
   ]
  },
  {
   "cell_type": "markdown",
   "metadata": {},
   "source": [
    "## (B)"
   ]
  },
  {
   "cell_type": "code",
   "execution_count": null,
   "metadata": {},
   "outputs": [],
   "source": [
    "from __future__ import print_function\n",
    "from ipywidgets import interact, interactive, fixed, interact_manual\n",
    "import ipywidgets as widgets"
   ]
  },
  {
   "cell_type": "markdown",
   "metadata": {},
   "source": [
    "## (C) The next bunch of code should be run to initialize the Spectrometer (PrincetonInstruments Lightfield Software) and loads the curve fitting code"
   ]
  },
  {
   "cell_type": "code",
   "execution_count": null,
   "metadata": {
    "scrolled": true
   },
   "outputs": [],
   "source": [
    "from spectra import capture_photo,ration\n",
    "capture_photo(\"start\",2) #it starts the lightfield software\n",
    "#import pandas as pd\n"
   ]
  },
  {
   "cell_type": "markdown",
   "metadata": {},
   "source": [
    "## (D) Import the flipper mirror and Laser Power controlling package**"
   ]
  },
  {
   "cell_type": "code",
   "execution_count": null,
   "metadata": {},
   "outputs": [],
   "source": [
    "from flipper import mirror\n",
    "#mirror('off')\n",
    "from pymeasure.instruments.lighthousephotonics import Sprout\n",
    "laser_power = Sprout('COM4')\n",
    "laser_power.adapter.connection.baud_rate = 19200\n",
    "laser_power.adapter.connection.read_termination = '\\r'\n",
    "laser_power.adapter.connection.write_termination = '\\r'\n",
    "laser_power.power=0.01"
   ]
  },
  {
   "cell_type": "code",
   "execution_count": null,
   "metadata": {},
   "outputs": [],
   "source": [
    "mirror('off')\n",
    "laser_power.power=0.01"
   ]
  },
  {
   "cell_type": "code",
   "execution_count": null,
   "metadata": {},
   "outputs": [],
   "source": [
    "%%javascript\n",
    "IPython.OutputArea.prototype._should_scroll = function(lines) {\n",
    "    return false;\n",
    "}"
   ]
  },
  {
   "cell_type": "markdown",
   "metadata": {},
   "source": [
    "**Before beginning the experiment, change the current directory to the current campaign folder**"
   ]
  },
  {
   "cell_type": "code",
   "execution_count": null,
   "metadata": {},
   "outputs": [],
   "source": [
    "    \n",
    "from datetime import date\n",
    "pp=str(date.today())\n",
    "os.chdir('Campaign ' + pp)"
   ]
  },
  {
   "cell_type": "code",
   "execution_count": null,
   "metadata": {},
   "outputs": [],
   "source": [
    "from spectra import ration\n",
    "import os\n",
    "os.getcwd()\n",
    "ration(1,2,27)"
   ]
  },
  {
   "cell_type": "code",
   "execution_count": null,
   "metadata": {},
   "outputs": [],
   "source": [
    "%reload_ext autoreload\n",
    "%autoreload 2\n",
    "%matplotlib inline\n",
    "%pylab inline"
   ]
  },
  {
   "cell_type": "code",
   "execution_count": null,
   "metadata": {},
   "outputs": [],
   "source": [
    "import os\n",
    "os.getcwd()"
   ]
  },
  {
   "cell_type": "code",
   "execution_count": null,
   "metadata": {},
   "outputs": [],
   "source": [
    "def repeats():\n",
    "    import csv\n",
    "    os.getcwd()\n",
    "    df2=pd.read_csv('dataset.csv')\n",
    "    ln=len(df2['power'])\n",
    "    m=ln\n",
    "    print(ln)\n",
    "    counter=m\n",
    "    for i in range(2):\n",
    "        toAdd = [df2['power'][m-1],df2['time'][m-1],df2['pressure'][m-1]]\n",
    "        filename=\"dataset.csv\"\n",
    "        with open(filename, \"r\") as infile:\n",
    "            reader = list(csv.reader(infile))\n",
    "            reader.insert(counter+1, toAdd)\n",
    "\n",
    "        with open(filename, \"w\", newline='') as outfile:\n",
    "            writer = csv.writer(outfile)\n",
    "            for line in reader:\n",
    "                writer.writerow(line)"
   ]
  },
  {
   "cell_type": "code",
   "execution_count": null,
   "metadata": {},
   "outputs": [],
   "source": [
    "os.getcwd()"
   ]
  },
  {
   "cell_type": "markdown",
   "metadata": {},
   "source": [
    "## Main Program to begin the experiment\n",
    "**Here the main experiment begins**"
   ]
  },
  {
   "cell_type": "code",
   "execution_count": null,
   "metadata": {},
   "outputs": [],
   "source": [
    "\n",
    "import pandas as pd\n",
    "laser_power.power=0.01\n",
    "import time\n",
    "import os\n",
    "\n",
    "df=pd.read_csv(\"dataset.csv\")\n",
    "df.head()\n",
    "power_of_file=df[\"power\"]\n",
    "time_of_file=df[\"time\"]\n",
    "pressure_of_file=df['pressure']\n",
    "\n",
    "\n",
    "#initialize position\n",
    "print(\"Initializing starts\\n\")\n",
    "# position=[[9.8,13.4],[10.9,13.4]]\n",
    "# position=[[6.5,7],[7.6,7]]\n",
    "pos_x=[]\n",
    "pos_y=[]\n",
    "import numpy as np\n",
    "p=2\n",
    "p2=2\n",
    "print(\"Enter the (y1,x1) coordinate\")\n",
    "co=[float(p) for p in input().split()]\n",
    "\n",
    "\n",
    "print(\"Enter the (y2,x2) coordinate\")\n",
    "co1=[float(p2) for p2 in input().split()]\n",
    "\n",
    "\n",
    "\n",
    "print(\"Enter the step size of y, then x\")\n",
    "s=2\n",
    "step=[float(s) for s in input().split()]\n",
    "\n",
    "\n",
    "pos_x=np.arange(co[0],co1[0]+step[0],step[0])\n",
    "pos_y=np.arange(co[1],co1[1]+step[1],step[1])\n",
    "\n",
    "        \n",
    "print(pos_x)\n",
    "print(pos_y)\n",
    "\n",
    "position=[]\n",
    "for i in range(len(pos_y)):\n",
    "    for j in range(len(pos_x)):\n",
    "        position.append([pos_x[j],pos_y[i]])\n",
    "\n",
    "\n",
    "\n",
    "mirror('off') #make sure mirror is off\n",
    "# capture_photo(\"bg\",1)\n",
    "laser_power.power=0.01   #make sure laser power is down to 0.01 W\n",
    "print(\"\\nPatterning will be started within 10 seconds\\n\")\n",
    "time.sleep(10)\n",
    "\n",
    "mirror('off')\n",
    "\n",
    "\n",
    "xps.move_stage('XYZ.X',position[0][0])\n",
    "xps.move_stage('XYZ.Y',position[0][1])\n",
    "\n",
    "\n",
    "\n",
    "kk=0\n",
    "vv=[]\n",
    "#time.sleep(40)\n",
    "print(\"\\nPatterning Starts\\n\")\n",
    "fitdata=[]\n",
    "for i in range(100,121):\n",
    "    import csv\n",
    "    import pandas as pd\n",
    "    import math\n",
    "      \n",
    "    data2=pd.read_csv(\"dataset.csv\")\n",
    "    rto=data2[\"ratio\"]\n",
    "    y_unique=[]\n",
    "    for m in rto:\n",
    "        if m!=0 and m not in y_unique and  math.isnan(m)!=1:y_unique.append(m)\n",
    "\n",
    "    number_of_unique_ratios=len(y_unique)\n",
    "    \n",
    "   \n",
    "    \n",
    "#     if number_of_unique_ratios==6:print(\"AI has started thinking !\")\n",
    "    if i>=10:\n",
    "        import rpy2.robjects as robjects\n",
    "        robjects.r('''\n",
    "        sourin<-function(s){\n",
    "  \n",
    "        if(s==1){\n",
    "        require(XML)\n",
    "        \n",
    "          suppressWarnings({suppressMessages({\n",
    "            library(mlrMBO)\n",
    "            library(ggplot2)\n",
    "            library(doMC)\n",
    "          })})\n",
    "\n",
    "          ps = makeParamSet(\n",
    "            makeIntegerParam(\"power\", lower = 151, upper =5000),\n",
    "            makeIntegerParam(\"time\", lower = 500, upper = 10000),\n",
    "            makeIntegerParam(\"pressure\", lower = 100, upper = 980)\n",
    "            \n",
    "          )\n",
    "\n",
    "          ctrl = makeMBOControl(y.name = \"ratio\")\n",
    "          ctrl = setMBOControlInfill(ctrl, opt = \"focussearch\",opt.focussearch.maxit = 10, opt.focussearch.points = 10000, crit =makeMBOInfillCritCB(cb.lambda=1))\n",
    "        \n",
    "        #dataset-2 should be replaced and later this line as well\n",
    "          data=read.csv(\"dataset-2.csv\")\n",
    "        \n",
    "        data<-na.omit(data)\n",
    "          suppressMessages({opt.state = initSMBO(par.set = ps,design = data, control = ctrl, minimize = FALSE, noisy = TRUE)})\n",
    "          \n",
    "          print(\"Proposed parameters:\")\n",
    "          prop <- suppressWarnings({proposePoints(opt.state)})\n",
    "          print(prop$prop.points) \n",
    "          print(prop$crit.components)\n",
    "          saveRDS(prop,'./prop.rds')\n",
    "          saveRDS(opt.state,'./opt.state.rds')\n",
    "          dummy_ratio=0\n",
    "          cat(\"Expected value (upper bound):\\n\")\n",
    "          cat(paste(prop$crit.components$mean, \" (\", \\\n",
    "          prop$crit.components$mean + prop$crit.components$se, \")\\n\", sep = \"\"))\n",
    "          \n",
    "          x<-c(prop$prop.points,dummy_ratio,prop$crit.components$mean,\\\n",
    "          prop$crit.components$mean + prop$crit.components$se)\n",
    "          \n",
    "          x2<-c(prop$prop.points)\n",
    "          #data_plot=read.csv(\"plot_data.csv\")\n",
    "          \n",
    "          \n",
    "          #dataset-2 should be replaced and later this line as well\n",
    "          write.table(x2, file = \"dataset.csv\", sep = \",\",\\\n",
    "          append = TRUE, quote = FALSE,col.names = FALSE, row.names = FALSE)\n",
    "          \n",
    "          #write.table(x, file = \"plot_data.csv\", sep = \",\",\\\n",
    "          #append = TRUE, quote = FALSE,col.names = FALSE, row.names = FALSE)\n",
    "        \n",
    "        }\n",
    "        else{\n",
    "          prop=readRDS('./prop.rds')\n",
    "          opt.state=readRDS('./opt.state.rds')\n",
    "          library(mlrMBO)\n",
    "          print(prop$crit.components)\n",
    "          print(prop$prop.points)\n",
    "          print(\"Proposed parameters:\")\n",
    "          updateSMBO(opt.state, x = prop$prop.points, y = s)\n",
    "          prop <- suppressWarnings({proposePoints(opt.state)})\n",
    "          print(prop$prop.points) \n",
    "          print(prop$crit.components)\n",
    "          saveRDS(prop,'./prop.rds')\n",
    "          saveRDS(opt.state,'./opt.state.rds')\n",
    "          dummy_ratio=0\n",
    "          cat(\"Expected value (upper bound):\\n\")\n",
    "          cat(paste(prop$crit.components$mean, \" (\", prop$crit.components$mean + prop$crit.components$se, \")\\n\", sep = \"\"))\n",
    "          x<-c(prop$prop.points,dummy_ratio,prop$crit.components$mean,prop$crit.components$mean + prop$crit.components$se)\n",
    "          x2<-c(prop$prop.points)\n",
    "          #data_plot=read.csv(\"plot_data.csv\")\n",
    "          \n",
    "          #dataset-2 should be replaced and later this line as well\n",
    "          write.table(x2, file = \"dataset.csv\", sep = \",\", append = TRUE, quote = FALSE,col.names = FALSE, row.names = FALSE)\n",
    "          #write.table(x, file = \"plot_data.csv\", sep = \",\", append = TRUE, quote = FALSE,col.names = FALSE, row.names = FALSE)\n",
    "        \n",
    "        }}\n",
    "\n",
    "        ''')\n",
    "#         if i==30:\n",
    "#             rsum=robjects.r['sourin']\n",
    "#             rsum((1))\n",
    "#             repeat()\n",
    "        \n",
    "    \n",
    "    \n",
    "      \n",
    "    df=pd.read_csv(\"dataset.csv\")\n",
    "    power_of_file=df[\"power\"]\n",
    "    time_of_file=df[\"time\"]\n",
    "    pressure_of_file=df['pressure']\n",
    "    xp=position[kk][0]\n",
    "    yp=position[kk][1]\n",
    "    kk=kk+1\n",
    "    xps.move_stage('XYZ.X',xp)\n",
    "    xps.move_stage('XYZ.Y',yp)\n",
    "    adjust()\n",
    "#     if i!=31 or i!=32 or i!=33:\n",
    "    for j in range(3):\n",
    "        gopr(pressure_of_file[i])\n",
    "        close_all()\n",
    "        time.sleep(5)\n",
    "    print(\"\\n Pressure is now : \",pressure_of_file[i],\"\\n\")\n",
    "    \n",
    "    time.sleep(10)\n",
    "    \n",
    "\n",
    "#     v=adjust()\n",
    "\n",
    "    ###begin pre raman spectra check of GO\n",
    "    \n",
    "    mirror(\"on\")\n",
    "    laser_power.power=0.01\n",
    "    GD=capture_photo(\"first\",i)\n",
    "    \n",
    "    mirror('off')\n",
    "    ##Stops\n",
    "    if float(GD)<.5:\n",
    "        print(\"Moving to next point\")\n",
    "    else:\n",
    "        a=power_of_file[i]\n",
    "        \n",
    "        print(\"\\n\")\n",
    "        print(\"The power is now: \",a,\"\\n\")\n",
    "        laser_power.power=((a-2.7979)/0.4639)/1000\n",
    "        #laser_power.power=((a+10.719)/0.3355)/1000\n",
    "        time.sleep(30)\n",
    "        t=time_of_file[i] \n",
    "        laser_time=float(t/1e3)\n",
    "        print(\"\\n\")\n",
    "        print(\"The time is now: \",laser_time,\"\\n\")\n",
    "        mirror('on') #irradiation begins\n",
    "\n",
    "        time.sleep(laser_time+1) #exposure time\n",
    "\n",
    "        mirror('off')\n",
    "        time.sleep(5)\n",
    "        laser_power.power=0.01\n",
    "        time.sleep(4)\n",
    "\n",
    "        #begin capturing spectra\n",
    "        mirror(\"on\")\n",
    "        import time\n",
    "   \n",
    "        p=capture_photo(\"on\",i) \n",
    "        #fitdata.append([p,twoGD,twoD,G,WD,WG])\n",
    "        print(\"G/D ratio, 2D ratio are : \",p)\n",
    "        print(\"\\n\")\n",
    "       \n",
    "        mirror(\"off\")\n",
    "        time.sleep(5)\n",
    "    \n",
    "        laser_power.power=.01\n",
    "        \n",
    "#         pp=\n",
    "#         paths=r'C:\\Users\\UWAdmin\\Desktop\\AIM-Lab-Automation-master\\AIM-Lab-Automation-master\\codes\\Campaign 2020-10-17'\n",
    "        vals=[17,20,23,26,29,32,35,38,41,44,47,50,53,56,59,62,65,68,71,74,77,80,83,86,89,92,95,98,101,104,107,110,113,116,119]\n",
    "    \n",
    "        if i in vals:\n",
    "#             val=median()\n",
    "                import pandas as pd\n",
    "                import csv\n",
    "                import numpy as np\n",
    "            #     import os\n",
    "            #     os.chdir(path)\n",
    "                df=pd.read_csv('dataset.csv')\n",
    "            #     k=31\n",
    "            #     m=1\n",
    "                lth=len(df['ratio'])\n",
    "                k1=lth-2\n",
    "                median=[]\n",
    "            #     for i in range(lth):\n",
    "            #         if i==k+1:\n",
    "\n",
    "            #     k=e\n",
    "                #df=pd.read_csv('dataset.csv')\n",
    "                valss=np.sort([df['ratio'][k1-1],df['ratio'][k1],df['ratio'][k1+1]])\n",
    "                print(valss)\n",
    "                count=0\n",
    "                for i1 in range(3):\n",
    "                    if valss[i1]!=valss[i1]:\n",
    "                        count+=1\n",
    "                        valss[i1]=0\n",
    "                if count==1:\n",
    "                    sum1=0\n",
    "                    for i1 in range(3):\n",
    "                        sum1=sum1+valss[i1]\n",
    "\n",
    "                    mvalue=sum1/2\n",
    "                    valss[1]=mvalue\n",
    "                else: median.append(valss[1])\n",
    "                if valss[1]!=valss[1]:\n",
    "                    valss[1]=0\n",
    "                import os\n",
    "                df2=pd.read_csv('dataset-2.csv')\n",
    "                counter=len(df2)\n",
    "                toAdd = [df['power'][k1-1],df['time'][k1-1],df['pressure'][k1-1],valss[1]]\n",
    "            #     filename=r\"C:\\Users\\UWAdmin\\Desktop\\AIM-Lab-Automation-master\\AIM-Lab-Automation-master\\codes\\Campaign 2020-10-13\\dataset-2.csv\"\n",
    "                with open('dataset-2.csv', \"r\") as infile:\n",
    "                    reader = list(csv.reader(infile))\n",
    "                    reader.insert(counter+1, toAdd)\n",
    "\n",
    "                with open('dataset-2.csv', \"w\", newline='') as outfile:\n",
    "                    writer = csv.writer(outfile)\n",
    "                    for line in reader:\n",
    "                        writer.writerow(line)\n",
    "                val=valss[1]\n",
    "                \n",
    "                \n",
    "                if val is None:\n",
    "#                 val=median(median_index)\n",
    "                    rsum((val))\n",
    "                    repeats()\n",
    "                \n",
    "\n",
    "                else:\n",
    "#                 val=median(median_index)\n",
    "                    rsum((val))\n",
    "                    repeats()\n",
    "\n",
    "\n"
   ]
  },
  {
   "cell_type": "code",
   "execution_count": null,
   "metadata": {},
   "outputs": [],
   "source": [
    "print(kk,i)"
   ]
  },
  {
   "cell_type": "code",
   "execution_count": null,
   "metadata": {},
   "outputs": [],
   "source": [
    "mirror(\"off\")"
   ]
  },
  {
   "cell_type": "code",
   "execution_count": null,
   "metadata": {},
   "outputs": [],
   "source": [
    "rsum=robjects.r['sourin']\n",
    "rsum((2.077857229))\n",
    "repeats()\n",
    "# rsum((val))\n",
    "# repeats() "
   ]
  },
  {
   "cell_type": "code",
   "execution_count": null,
   "metadata": {},
   "outputs": [],
   "source": [
    "mirror('on')\n",
    "# close_all()\n",
    "# paths=r'C:\\Users\\UWAdmin\\Desktop\\AIM-Lab-Automation-master\\AIM-Lab-Automation-master\\codes\\Campaign 2020-10-17'"
   ]
  },
  {
   "cell_type": "code",
   "execution_count": null,
   "metadata": {},
   "outputs": [],
   "source": [
    "# mirror('off')\n",
    "# close_all()\n",
    "val=median(12)\n",
    "rsum((val))\n",
    "repeats()\n",
    "# laser_power.write('OPMODE=OFF')"
   ]
  },
  {
   "cell_type": "code",
   "execution_count": null,
   "metadata": {},
   "outputs": [],
   "source": [
    "dd=pd.read_csv('dataset.csv')\n",
    "print(len(dd))\n",
    "print(dd['ratio'][12])\n",
    "print(dd['ratio'])"
   ]
  },
  {
   "cell_type": "code",
   "execution_count": null,
   "metadata": {},
   "outputs": [],
   "source": [
    "# import rpy2.robjects as robjects\n",
    "# rsum=robjects.r['sourin']\n",
    "paths=r'C:\\Users\\UWAdmin\\Desktop\\AIM-Lab-Automation-master\\AIM-Lab-Automation-master\\codes\\Campaign 2020-10-17'\n",
    "val=median(paths)\n",
    "# rsum((val))\n",
    "# repeats()"
   ]
  },
  {
   "cell_type": "code",
   "execution_count": null,
   "metadata": {},
   "outputs": [],
   "source": [
    "close_all()\n",
    "current_pressure()\n",
    "from scipy import stats\n",
    "#open_valve('out')"
   ]
  },
  {
   "cell_type": "code",
   "execution_count": null,
   "metadata": {},
   "outputs": [],
   "source": [
    "def median():\n",
    "    import pandas as pd\n",
    "    import csv\n",
    "    import numpy as np\n",
    "#     import os\n",
    "#     os.chdir(path)\n",
    "    df=pd.read_csv('dataset.csv')\n",
    "#     k=31\n",
    "#     m=1\n",
    "    lth=len(df['ratio'])\n",
    "    k=lth-2\n",
    "    median=[]\n",
    "#     for i in range(lth):\n",
    "#         if i==k+1:\n",
    "    \n",
    "#     k=e\n",
    "    #df=pd.read_csv('dataset.csv')\n",
    "    vals=np.sort([df['ratio'][k-1],df['ratio'][k],df['ratio'][k+1]])\n",
    "    print(vals)\n",
    "    median.append(vals[1])\n",
    "#     k=k+3\n",
    "    import os\n",
    "    df2=pd.read_csv('dataset-2.csv')\n",
    "    counter=len(df2)\n",
    "    toAdd = [df['power'][k-1],df['time'][k-1],df['pressure'][k-1],vals[1]]\n",
    "#     filename=r\"C:\\Users\\UWAdmin\\Desktop\\AIM-Lab-Automation-master\\AIM-Lab-Automation-master\\codes\\Campaign 2020-10-13\\dataset-2.csv\"\n",
    "    with open('dataset-2.csv', \"r\") as infile:\n",
    "        reader = list(csv.reader(infile))\n",
    "        reader.insert(counter+1, toAdd)\n",
    "\n",
    "    with open('dataset-2.csv', \"w\", newline='') as outfile:\n",
    "        writer = csv.writer(outfile)\n",
    "        for line in reader:\n",
    "            writer.writerow(line)\n",
    "    return vals[1]"
   ]
  },
  {
   "cell_type": "code",
   "execution_count": null,
   "metadata": {},
   "outputs": [],
   "source": [
    "median(12)"
   ]
  },
  {
   "cell_type": "code",
   "execution_count": null,
   "metadata": {},
   "outputs": [],
   "source": [
    "df=pd.read_csv('dataset.csv')\n",
    "#     k=31\n",
    "#     m=1\n",
    "lth=len(df['ratio'])\n",
    "print(lth)"
   ]
  },
  {
   "cell_type": "code",
   "execution_count": null,
   "metadata": {},
   "outputs": [],
   "source": [
    "close_all()\n",
    "open_valve('out')"
   ]
  },
  {
   "cell_type": "code",
   "execution_count": null,
   "metadata": {},
   "outputs": [],
   "source": [
    "ration(1,1,20)"
   ]
  },
  {
   "cell_type": "code",
   "execution_count": null,
   "metadata": {},
   "outputs": [],
   "source": [
    "# rsum((3.05876933))\n",
    "repeats()"
   ]
  },
  {
   "cell_type": "markdown",
   "metadata": {},
   "source": [
    "## G.The adjust() function autofocuses the z-axis each time before patterning a new spot."
   ]
  },
  {
   "cell_type": "code",
   "execution_count": null,
   "metadata": {},
   "outputs": [],
   "source": [
    "\n",
    "def adjust():\n",
    "    \n",
    "    import timeit\n",
    "\n",
    "    start = timeit.default_timer()\n",
    "    import time\n",
    "\n",
    "    #zz=[9.2,9.3,9.4]\n",
    "    zz=[8.7,8.8,8.9,9]\n",
    "    intensity=[]\n",
    "    for i in range(len(zz)):\n",
    "\n",
    "        xps.move_stage('XYZ.Z',zz[i])\n",
    "        time.sleep(5)\n",
    "        p=capture_photo('adjust',i)\n",
    "        intensity.append(p)\n",
    "    mirror('off')\n",
    "    stop = timeit.default_timer()\n",
    "\n",
    "    print('Time: ', stop - start)  \n",
    "    print(intensity)\n",
    "\n",
    "    import numpy as np\n",
    "    ix=intensity.index(np.max(intensity))\n",
    "    xps.move_stage('XYZ.Z',zz[ix])\n",
    "    print(\"adjusted z position is: \",zz[ix])\n",
    "    return intensity"
   ]
  },
  {
   "cell_type": "markdown",
   "metadata": {},
   "source": [
    "**The following codes are some random stuff**"
   ]
  },
  {
   "cell_type": "code",
   "execution_count": null,
   "metadata": {},
   "outputs": [],
   "source": [
    "mirror(\"off\")\n",
    "xps.move_stage('XYZ.X',6)\n",
    "xps.move_stage('XYZ.Y',8)\n",
    "xps.move_stage('XYZ.Z',9)\n",
    "mirror('on')"
   ]
  },
  {
   "cell_type": "code",
   "execution_count": null,
   "metadata": {},
   "outputs": [],
   "source": [
    "laser_power.write('OPMODE=OFF')"
   ]
  },
  {
   "cell_type": "code",
   "execution_count": null,
   "metadata": {},
   "outputs": [],
   "source": [
    "close_all()"
   ]
  },
  {
   "cell_type": "code",
   "execution_count": null,
   "metadata": {},
   "outputs": [],
   "source": [
    "open_valve('vac')"
   ]
  },
  {
   "cell_type": "code",
   "execution_count": null,
   "metadata": {},
   "outputs": [],
   "source": [
    "pos_all()"
   ]
  },
  {
   "cell_type": "code",
   "execution_count": null,
   "metadata": {},
   "outputs": [],
   "source": [
    "adjust()"
   ]
  },
  {
   "cell_type": "code",
   "execution_count": null,
   "metadata": {},
   "outputs": [],
   "source": [
    "mirror('off')"
   ]
  },
  {
   "cell_type": "code",
   "execution_count": null,
   "metadata": {},
   "outputs": [],
   "source": [
    "def test_spot(power,tt):\n",
    "    \"\"\" Test one-off laser spot for pattern and reduce back to reading power\n",
    "        :params:\n",
    "        power : laser power in mW\n",
    "        time : time needed in ms\n",
    "    \"\"\"\n",
    "    a = power# in mW\n",
    "    laser_power.power=((a-2.7979)/0.4639)/1000\n",
    "\n",
    "    time.sleep(30)\n",
    "    t = tt # in ms\n",
    "    laser_time=float(t/1e3)\n",
    "    print(\"\\n\")\n",
    "    print(\"The time is now: \",laser_time,\"\\n\")\n",
    "    mirror('on') # irradiation begins\n",
    "\n",
    "    time.sleep(laser_time+1)\n",
    "\n",
    "    mirror('off')\n",
    "    time.sleep(5)\n",
    "    laser_power.power=0.01\n",
    "    time.sleep(4)\n",
    "    print (\"Patterning done, laser ready for Raman reading\")"
   ]
  },
  {
   "cell_type": "code",
   "execution_count": null,
   "metadata": {},
   "outputs": [],
   "source": [
    "test_spot(271,8200)"
   ]
  },
  {
   "cell_type": "code",
   "execution_count": null,
   "metadata": {},
   "outputs": [],
   "source": [
    "laser_power.power=0.01"
   ]
  },
  {
   "cell_type": "code",
   "execution_count": null,
   "metadata": {},
   "outputs": [],
   "source": [
    "mirror('on')"
   ]
  },
  {
   "cell_type": "code",
   "execution_count": null,
   "metadata": {},
   "outputs": [],
   "source": [
    "position"
   ]
  },
  {
   "cell_type": "code",
   "execution_count": null,
   "metadata": {},
   "outputs": [],
   "source": [
    "pos_all()"
   ]
  },
  {
   "cell_type": "code",
   "execution_count": null,
   "metadata": {},
   "outputs": [],
   "source": [
    "laser_power.write('OPMODE=OFF')"
   ]
  },
  {
   "cell_type": "code",
   "execution_count": null,
   "metadata": {},
   "outputs": [],
   "source": [
    "pos_x=[]\n",
    "pos_y=[]\n",
    "import numpy as np\n",
    "p=2\n",
    "p2=2\n",
    "print(\"Enter the (y1,x1) coordinate\")\n",
    "co=[float(p) for p in input().split()]\n",
    "\n",
    "\n",
    "print(\"Enter the (y2,x2) coordinate\")\n",
    "co1=[float(p2) for p2 in input().split()]\n",
    "\n",
    "\n",
    "\n",
    "print(\"Enter the step size of y, then x\")\n",
    "s=2\n",
    "step=[float(s) for s in input().split()]\n",
    "\n",
    "\n",
    "pos_x=np.arange(co[0],co1[0]+step[0],step[0])\n",
    "pos_y=np.arange(co[1],co1[1]+step[1],step[1])\n",
    "\n",
    "        \n",
    "print(pos_x)\n",
    "print(pos_y)\n",
    "\n",
    "position=[]\n",
    "for i in range(len(pos_y)):\n",
    "    for j in range(len(pos_x)):\n",
    "        position.append([pos_x[j],pos_y[i]])"
   ]
  },
  {
   "cell_type": "code",
   "execution_count": null,
   "metadata": {},
   "outputs": [],
   "source": [
    "mirror(\"off\")\n",
    "xps.move_stage('XYZ.X',10)\n",
    "xps.move_stage('XYZ.Y',8)\n",
    "xps.move_stage('XYZ.Z',9.1)\n",
    "# pos_all()\n",
    "mirror('on')"
   ]
  },
  {
   "cell_type": "code",
   "execution_count": null,
   "metadata": {},
   "outputs": [],
   "source": [
    "laser_power.write('OPMODE=OFF')"
   ]
  },
  {
   "cell_type": "code",
   "execution_count": null,
   "metadata": {},
   "outputs": [],
   "source": [
    "adjust()"
   ]
  },
  {
   "cell_type": "code",
   "execution_count": null,
   "metadata": {},
   "outputs": [],
   "source": [
    "mirror('on')"
   ]
  },
  {
   "cell_type": "code",
   "execution_count": null,
   "metadata": {},
   "outputs": [],
   "source": [
    "pos_all()"
   ]
  },
  {
   "cell_type": "code",
   "execution_count": null,
   "metadata": {},
   "outputs": [],
   "source": [
    "close_all()"
   ]
  },
  {
   "cell_type": "code",
   "execution_count": null,
   "metadata": {},
   "outputs": [],
   "source": [
    "val=capture_photo('on',50)"
   ]
  },
  {
   "cell_type": "code",
   "execution_count": null,
   "metadata": {},
   "outputs": [],
   "source": [
    "mirror('on')\n",
    "capture_photo('on',50)\n",
    "mirror('off')"
   ]
  },
  {
   "cell_type": "code",
   "execution_count": null,
   "metadata": {},
   "outputs": [],
   "source": [
    "repeats()"
   ]
  },
  {
   "cell_type": "code",
   "execution_count": null,
   "metadata": {},
   "outputs": [],
   "source": [
    "position=[[10.9,13.4],[6.5,8]]"
   ]
  },
  {
   "cell_type": "code",
   "execution_count": null,
   "metadata": {},
   "outputs": [],
   "source": [
    "position"
   ]
  },
  {
   "cell_type": "code",
   "execution_count": null,
   "metadata": {},
   "outputs": [],
   "source": [
    "pos_all()"
   ]
  },
  {
   "cell_type": "code",
   "execution_count": null,
   "metadata": {},
   "outputs": [],
   "source": [
    "position=[[9.8,12.4],[10.9,12.4]]"
   ]
  },
  {
   "cell_type": "code",
   "execution_count": null,
   "metadata": {},
   "outputs": [],
   "source": [
    "rsum((1))\n",
    "repeats()"
   ]
  },
  {
   "cell_type": "code",
   "execution_count": null,
   "metadata": {},
   "outputs": [],
   "source": [
    "mirror('on')\n",
    "capture_photo('on',10)\n",
    "mirror('off')"
   ]
  },
  {
   "cell_type": "code",
   "execution_count": null,
   "metadata": {},
   "outputs": [],
   "source": [
    "rsum((1))"
   ]
  },
  {
   "cell_type": "code",
   "execution_count": null,
   "metadata": {},
   "outputs": [],
   "source": [
    "repeats()"
   ]
  },
  {
   "cell_type": "code",
   "execution_count": null,
   "metadata": {},
   "outputs": [],
   "source": [
    "laser_power.write('OPMODE=OFF')"
   ]
  }
 ],
 "metadata": {
  "kernelspec": {
   "display_name": "Python 3",
   "language": "python",
   "name": "python3"
  },
  "language_info": {
   "codemirror_mode": {
    "name": "ipython",
    "version": 3
   },
   "file_extension": ".py",
   "mimetype": "text/x-python",
   "name": "python",
   "nbconvert_exporter": "python",
   "pygments_lexer": "ipython3",
   "version": "3.7.3"
  }
 },
 "nbformat": 4,
 "nbformat_minor": 2
}
