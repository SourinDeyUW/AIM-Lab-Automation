{
 "cells": [
  {
   "cell_type": "markdown",
   "metadata": {},
   "source": [
    "**This code is to create initial dataset which will work as prior for Bayesian Optimization**\n",
    "\n",
    "**This code doesn't contain the G/D ratio**"
   ]
  },
  {
   "cell_type": "code",
   "execution_count": null,
   "metadata": {},
   "outputs": [],
   "source": [
    "##Create the initial random dataset\n",
    "\n",
    "import numpy as np\n",
    "import csv\n",
    "power=[]\n",
    "time=[]\n",
    "pressure=[]\n",
    "gas=[]\n",
    "for x in range(20):\n",
    "    power.append(np.random.randint(10,5555))\n",
    "    time.append(np.random.randint(500,20210))\n",
    "    gas.append(\"Argon\")\n",
    "    pressure.append(np.random.randint(0,100))\n",
    "\n",
    "row=['power','time','gas','pressure','ratio']\n",
    "with open('ml_file.csv', 'w', newline='') as f:\n",
    "        writer = csv.writer(f)\n",
    "        writer.writerow(row)\n",
    "        writer.writerows(zip(power,time,gas,pressure))"
   ]
  }
 ],
 "metadata": {
  "kernelspec": {
   "display_name": "Python 3",
   "language": "python",
   "name": "python3"
  },
  "language_info": {
   "codemirror_mode": {
    "name": "ipython",
    "version": 3
   },
   "file_extension": ".py",
   "mimetype": "text/x-python",
   "name": "python",
   "nbconvert_exporter": "python",
   "pygments_lexer": "ipython3",
   "version": "3.7.4"
  }
 },
 "nbformat": 4,
 "nbformat_minor": 2
}
