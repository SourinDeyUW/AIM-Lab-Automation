{
 "cells": [
  {
   "cell_type": "code",
   "execution_count": 10,
   "metadata": {},
   "outputs": [
    {
     "name": "stdout",
     "output_type": "stream",
     "text": [
      "Enter the (y1,x1) coordinate\n",
      "4 3\n",
      "Enter the (y2,x2) coordinate\n",
      "11 9\n",
      "Enter the step size of y, then x\n",
      "1 1\n",
      "[ 4.  5.  6.  7.  8.  9. 10. 11.]\n",
      "[3. 4. 5. 6. 7. 8. 9.]\n"
     ]
    }
   ],
   "source": [
    "\n",
    "pos_x=[]\n",
    "pos_y=[]\n",
    "import numpy as np\n",
    "p=2\n",
    "p2=2\n",
    "print(\"Enter the (y1,x1) coordinate\")\n",
    "co=[float(p) for p in input().split()]\n",
    "\n",
    "\n",
    "print(\"Enter the (y2,x2) coordinate\")\n",
    "co1=[float(p2) for p2 in input().split()]\n",
    "\n",
    "\n",
    "\n",
    "print(\"Enter the step size of y, then x\")\n",
    "s=2\n",
    "step=[float(s) for s in input().split()]\n",
    "\n",
    "\n",
    "pos_x=np.arange(co[0],co1[0]+step[0],step[0])\n",
    "pos_y=np.arange(co[1],co1[1]+step[1],step[1])\n",
    "\n",
    "        \n",
    "print(pos_x)\n",
    "print(pos_y)\n",
    "\n",
    "position=[]\n",
    "for i in range(len(pos_y)):\n",
    "    for j in range(len(pos_x)):\n",
    "        position.append([pos_x[j],pos_y[i]])\n",
    "\n"
   ]
  },
  {
   "cell_type": "code",
   "execution_count": null,
   "metadata": {},
   "outputs": [],
   "source": []
  }
 ],
 "metadata": {
  "kernelspec": {
   "display_name": "Python 3",
   "language": "python",
   "name": "python3"
  },
  "language_info": {
   "codemirror_mode": {
    "name": "ipython",
    "version": 3
   },
   "file_extension": ".py",
   "mimetype": "text/x-python",
   "name": "python",
   "nbconvert_exporter": "python",
   "pygments_lexer": "ipython3",
   "version": "3.7.1"
  }
 },
 "nbformat": 4,
 "nbformat_minor": 2
}
