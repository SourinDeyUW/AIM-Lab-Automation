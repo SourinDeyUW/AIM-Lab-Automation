{
 "cells": [
  {
   "cell_type": "markdown",
   "metadata": {},
   "source": [
    "## Run the sections A, B, C, D, E, F sequentially. Then the main program is ready to run and conduct experiment."
   ]
  },
  {
   "cell_type": "markdown",
   "metadata": {},
   "source": [
    "## (A) The First 2 bunch of codes are to initialize the motion controller ESP 300"
   ]
  },
  {
   "cell_type": "code",
   "execution_count": null,
   "metadata": {},
   "outputs": [],
   "source": [
    "from pymeasure.instruments.newport import ESP300\n",
    "from pymeasure.instruments import list_resources\n",
    "\n",
    "import ftd2xx  # Thorlabs MFF101\n",
    "import ftd2xx.defines as constants\n",
    "from ftd2xx import listDevices, getDeviceInfoDetail\n",
    "\n",
    "from time import sleep"
   ]
  },
  {
   "cell_type": "markdown",
   "metadata": {},
   "source": [
    "## (B)"
   ]
  },
  {
   "cell_type": "code",
   "execution_count": null,
   "metadata": {},
   "outputs": [],
   "source": [
    "from __future__ import print_function\n",
    "from ipywidgets import interact, interactive, fixed, interact_manual\n",
    "import ipywidgets as widgets"
   ]
  },
  {
   "cell_type": "markdown",
   "metadata": {},
   "source": [
    "## (C) The next bunch of code should be run to initialize the Spectrometer (PrincetonInstruments Lightfield Software) and loads the curve fitting code"
   ]
  },
  {
   "cell_type": "code",
   "execution_count": null,
   "metadata": {},
   "outputs": [],
   "source": [
    "from spectra import capture_photo,ration\n",
    "capture_photo(\"start\",2) #it starts the lightfield software\n",
    "\n",
    "\n",
    "# from fit_code2 import ration\n",
    "import pandas as pd\n",
    "df = pd.DataFrame(columns=['D','PD','WD','FD','G','PG','WG','FG','2D','P2D','W2D','F2D','GD', '2DG'])\n",
    "df.to_csv(\"fit_.csv\",index=False)\n",
    "df2 = pd.DataFrame(columns=['power','time','gas','pressure','ratio','estimated','estimated_upper'])\n",
    "\n",
    "df2.to_csv(\"plot_data_.csv\",index=False)"
   ]
  },
  {
   "cell_type": "markdown",
   "metadata": {},
   "source": [
    "\n",
    "# (D) Establish connection with the ESP300 and Flipper Mirror"
   ]
  },
  {
   "cell_type": "code",
   "execution_count": null,
   "metadata": {},
   "outputs": [],
   "source": [
    "\n",
    "ctrl = ESP300(\"GPIB0::3::INSTR\")\n",
    "ctrl.data_bits=8\n",
    "ctrl.baud_rate=19200\n",
    "ctrl.StopBits=1\n",
    "ctrl.read_termination='\\r\\n'\n",
    "ctrl.write_termination='\\r'"
   ]
  },
  {
   "cell_type": "markdown",
   "metadata": {},
   "source": [
    "# (E) Record the position of the x,y,z axes of the motion controller"
   ]
  },
  {
   "cell_type": "code",
   "execution_count": null,
   "metadata": {},
   "outputs": [],
   "source": [
    "x = ctrl.x  # Our x-axis is motor 1 or y\n",
    "y = ctrl.y  # Our y-axis is motor 2 or x\n",
    "z = ctrl.phi  # 3\n",
    "pos = [x.position, y.position, z.position]\n",
    "print(pos)\n",
    "print(x.enabled,y.enabled,z.enabled)"
   ]
  },
  {
   "cell_type": "markdown",
   "metadata": {},
   "source": [
    "## (F) Import the flipper mirror and Laser Power controlling package**"
   ]
  },
  {
   "cell_type": "code",
   "execution_count": null,
   "metadata": {},
   "outputs": [],
   "source": [
    "from flipper import mirror\n",
    "mirror('off')\n",
    "from pymeasure.instruments.lighthousephotonics import Sprout\n",
    "laser_power = Sprout('COM1')\n",
    "laser_power.adapter.connection.baud_rate = 19200\n",
    "laser_power.adapter.connection.read_termination = '\\r'\n",
    "laser_power.adapter.connection.write_termination = '\\r'\n",
    "laser_power.power=0.05"
   ]
  },
  {
   "cell_type": "code",
   "execution_count": null,
   "metadata": {},
   "outputs": [],
   "source": [
    "%%javascript\n",
    "IPython.OutputArea.prototype._should_scroll = function(lines) {\n",
    "    return false;\n",
    "}"
   ]
  },
  {
   "cell_type": "markdown",
   "metadata": {},
   "source": [
    "## Main Program to begin the experiment\n",
    "**Here the main experiment begins**"
   ]
  },
  {
   "cell_type": "code",
   "execution_count": null,
   "metadata": {},
   "outputs": [],
   "source": [
    "# from __future__ import division\n",
    "import pandas as pd\n",
    "laser_power.power=0.05\n",
    "import time\n",
    "import os\n",
    "os.chdir(\"C:\\\\Users\\\\labuser\")\n",
    "df=pd.read_csv(\"dataset-2.csv\")\n",
    "df.head()\n",
    "power_of_file=df[\"power\"]\n",
    "time_of_file=df[\"time\"]\n",
    "\n",
    "#initialize position\n",
    "print(\"Initializing starts\\n\")\n",
    "\n",
    "pos_x=[]\n",
    "pos_y=[]\n",
    "import numpy as np\n",
    "p=2\n",
    "p2=2\n",
    "print(\"Enter the (y1,x1) coordinate\")\n",
    "co=[float(p) for p in input().split()]\n",
    "\n",
    "\n",
    "print(\"Enter the (y2,x2) coordinate\")\n",
    "co1=[float(p2) for p2 in input().split()]\n",
    "\n",
    "\n",
    "\n",
    "print(\"Enter the step size of y, then x\")\n",
    "s=2\n",
    "step=[float(s) for s in input().split()]\n",
    "\n",
    "\n",
    "pos_x=np.arange(co[0],co1[0]+step[0],step[0])\n",
    "pos_y=np.arange(co[1],co1[1]+step[1],step[1])\n",
    "\n",
    "        \n",
    "print(pos_x)\n",
    "print(pos_y)\n",
    "\n",
    "position=[]\n",
    "for i in range(len(pos_y)):\n",
    "    for j in range(len(pos_x)):\n",
    "        position.append([pos_x[j],pos_y[i]])\n",
    "\n",
    "\n",
    "\n",
    "mirror('off') #make sure mirror is off\n",
    "capture_photo(\"bg\",1)\n",
    "laser_power.power=0.05   #make sure laser power is down to 0.01 W\n",
    "print(\"\\nPatterning will be started within 10 seconds\\n\")\n",
    "time.sleep(10)\n",
    "\n",
    "\n",
    "\n",
    "\n",
    "\n",
    "print(\"\\nPatterning Starts\\n\")\n",
    "\n",
    "for i in range(len(pos_x)*len(pos_y)):\n",
    "    \n",
    "    import pandas as pd\n",
    "    import math\n",
    "    data2=pd.read_csv(\"dataset-2.csv\")\n",
    "    rto=data2[\"ratio\"]\n",
    "    y_unique=[]\n",
    "    for m in rto:\n",
    "        if m not in y_unique and m!=0 and  math.isnan(m)!=1:y_unique.append(m)\n",
    "\n",
    "    number_of_unique_ratios=len(y_unique)\n",
    "    \n",
    "    if i==number_of_unique_ratios==5:print(\"AI has started thinking !\")\n",
    "    if i>=number_of_unique_ratios and i>=5:\n",
    "        import rpy2.robjects as robjects\n",
    "        robjects.r('''\n",
    "        suppressWarnings({suppressMessages({\n",
    "          library(mlrMBO)\n",
    "          library(ggplot2)\n",
    "        })})\n",
    "\n",
    "        ps = makeParamSet(\n",
    "          makeIntegerParam(\"power\", lower = 101, upper = 2000),\n",
    "          makeIntegerParam(\"time\", lower = 500, upper = 10000),\n",
    "          makeDiscreteParam(\"gas\", values = c(\"Argon\")),\n",
    "          makeIntegerParam(\"pressure\", lower = 0, upper = 100)\n",
    "        )\n",
    "\n",
    "        ctrl = makeMBOControl(y.name = \"ratio\")\n",
    "        ctrl = setMBOControlInfill(ctrl, opt = \"focussearch\", opt.focussearch.maxit = 10, opt.focussearch.points = 10000, crit = makeMBOInfillCritEI())\n",
    "\n",
    "        data=read.csv(\"dataset-2.csv\")\n",
    "        data<-na.omit(data)\n",
    "        suppressMessages({opt.state = initSMBO(par.set = ps, design = data, control = ctrl, minimize = FALSE, noisy = TRUE)})\n",
    "        print(\"Proposed parameters:\")\n",
    "        prop = suppressWarnings({proposePoints(opt.state)})\n",
    "        print(prop$prop.points)\n",
    "        dummy_ratio=0\n",
    "        cat(\"Expected value (upper bound):\\n\")\n",
    "        cat(paste(prop$crit.components$mean, \" (\", prop$crit.components$mean + prop$crit.components$se, \")\\n\", sep = \"\"))\n",
    "        x<-c(prop$prop.points,dummy_ratio,prop$crit.components$mean,prop$crit.components$mean + prop$crit.components$se)\n",
    "        x2<-c(prop$prop.points)\n",
    "        data_plot=read.csv(\"plot_data.csv\")\n",
    "        write.table(x2, file = \"dataset-2.csv\", sep = \",\", append = TRUE, quote = FALSE,col.names = FALSE, row.names = FALSE)\n",
    "        write.table(x, file = \"plot_data.csv\", sep = \",\", append = TRUE, quote = FALSE,col.names = FALSE, row.names = FALSE)\n",
    "        \n",
    "        ''')\n",
    "        \n",
    "        \n",
    "    df=pd.read_csv(\"dataset-2.csv\")\n",
    "    power_of_file=df[\"power\"]\n",
    "    time_of_file=df[\"time\"]\n",
    "\n",
    "    x.position=position[i][0]\n",
    "    y.position=position[i][1]\n",
    "    time.sleep(10)\n",
    "    \n",
    "    ###begin pre raman spectra check of GO\n",
    "    \n",
    "    mirror(\"on\")\n",
    "    laser_power.power=0.05\n",
    "    GD=capture_photo(\"first\",i)\n",
    "    \n",
    "    ##Stops\n",
    "    if float(GD)<.5:\n",
    "        print(\"Moving to next point\")\n",
    "    else:\n",
    "        a=power_of_file[i]\n",
    "    #     b=float(a/1e3)\n",
    "    #     laser_power.power=b\n",
    "        #laser_power.power=((a-2.7979)/0.4639)/1000\n",
    "        laser_power.power=((a+10.719)/0.3355)/1000\n",
    "        time.sleep(45)\n",
    "        t=time_of_file[i] \n",
    "        laser_time=float(t/1e3)\n",
    "\n",
    "        mirror('on') #irradiation begins\n",
    "\n",
    "        time.sleep(laser_time+1) #exposure time\n",
    "\n",
    "        mirror('off')\n",
    "        time.sleep(5)\n",
    "        laser_power.power=0.05\n",
    "        time.sleep(4)\n",
    "\n",
    "        #begin capturing spectra\n",
    "        mirror(\"on\")\n",
    "        import time\n",
    "\n",
    "        \n",
    "#The following block I've used to check variation of same spectra over time\n",
    "        times=[1,60]\n",
    "        for j in range(len(times)):\n",
    "            time.sleep(times[j])\n",
    "            print(\"G/D ratio, 2D ratio are : \")\n",
    "            p=capture_photo(\"on\",i) \n",
    "            print(\"\\n\")\n",
    "#The above block I've used to check variation of same spectra over time\n",
    "            \n",
    "            \n",
    "        capture_photo(\"on\",i)\n",
    "        mirror(\"off\")\n",
    "        time.sleep(5)\n",
    "    \n",
    "        laser_power.power=.05\n",
    "        "
   ]
  },
  {
   "cell_type": "markdown",
   "metadata": {},
   "source": [
    "**The following codes are some random stuff**"
   ]
  },
  {
   "cell_type": "code",
   "execution_count": null,
   "metadata": {},
   "outputs": [],
   "source": [
    "x.position=7 # IS VERTICAL/NORMAL TO THE FLOOR OF LAB\n",
    "y.position=3.5 # IS HORIZONTAL/PARALLEL TO THE FLOOR OF LAB\n",
    "# z.position=4.4538\n",
    "# z.position=4.4538"
   ]
  },
  {
   "cell_type": "code",
   "execution_count": null,
   "metadata": {},
   "outputs": [],
   "source": [
    "mirror(\"on\")"
   ]
  },
  {
   "cell_type": "code",
   "execution_count": null,
   "metadata": {},
   "outputs": [],
   "source": [
    "pos = [x.position, y.position, z.position]\n",
    "print(pos)\n",
    "        "
   ]
  },
  {
   "cell_type": "code",
   "execution_count": null,
   "metadata": {},
   "outputs": [],
   "source": [
    "print(capture_photo(\"on\",i))"
   ]
  },
  {
   "cell_type": "code",
   "execution_count": null,
   "metadata": {},
   "outputs": [],
   "source": [
    "laser_power.power=0.05"
   ]
  },
  {
   "cell_type": "code",
   "execution_count": null,
   "metadata": {},
   "outputs": [],
   "source": []
  }
 ],
 "metadata": {
  "kernelspec": {
   "display_name": "Python 3",
   "language": "python",
   "name": "python3"
  },
  "language_info": {
   "codemirror_mode": {
    "name": "ipython",
    "version": 3
   },
   "file_extension": ".py",
   "mimetype": "text/x-python",
   "name": "python",
   "nbconvert_exporter": "python",
   "pygments_lexer": "ipython3",
   "version": "3.7.4"
  }
 },
 "nbformat": 4,
 "nbformat_minor": 2
}
