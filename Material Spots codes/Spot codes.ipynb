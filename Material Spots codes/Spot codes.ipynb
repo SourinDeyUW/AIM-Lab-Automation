{
 "cells": [
  {
   "cell_type": "code",
   "execution_count": null,
   "metadata": {},
   "outputs": [],
   "source": [
    "from threading import *\n",
    "import time \n",
    "from datetime import datetime\n",
    "from time import sleep\n",
    "from datetime import timedelta"
   ]
  },
  {
   "cell_type": "code",
   "execution_count": null,
   "metadata": {},
   "outputs": [],
   "source": [
    "#import rpy2.robjects as robjects #r-python interfacing\n",
    "\n",
    "import rpy2.robjects as robjects\n",
    "from pymeasure.instruments import list_resources\n",
    "\n",
    "import ftd2xx  # Thorlabs MFF101\n",
    "import ftd2xx.defines as constants\n",
    "from ftd2xx import listDevices, getDeviceInfoDetail\n",
    "\n",
    "\n",
    "\n",
    "from newportxps import NewportXPS\n",
    "from newportxps.XPS_C8_drivers import XPS, XPSException\n",
    "\n",
    "\n",
    "import numpy as np\n",
    "import csv\n",
    "\n",
    "\n",
    "xpsd_remoteip = '192.168.254.254'\n",
    "# xpsd_hostip ='192.168.0.254'\n",
    "hostname = 'XPS-1b81'\n",
    "\n",
    "xps = NewportXPS(xpsd_remoteip)\n",
    "print(xps.status_report())\n",
    "\n",
    "\n",
    "xps.kill_group('XYZ')\n",
    "xps.initialize_allgroups()\n",
    "xps.home_allgroups()\n",
    "\n",
    "\n",
    "\n",
    "def pos_all():\n",
    "    for sname, _ in xps.stages.items():\n",
    "        print('{}: {}'.format(sname, xps.get_stage_position(sname)))\n",
    "        \n",
    "        \n",
    "\n",
    "\n"
   ]
  },
  {
   "cell_type": "markdown",
   "metadata": {},
   "source": [
    "# Initialize motion controller"
   ]
  },
  {
   "cell_type": "code",
   "execution_count": null,
   "metadata": {},
   "outputs": [],
   "source": [
    "\n",
    "#pos_all() tells about current position of the motion controller\n",
    "\n",
    "pos_all()\n",
    "\n",
    "\n",
    "xps.move_stage('XYZ.Pos1',10) #moves x axis\n",
    "xps.move_stage('XYZ.Pos2',11) #moves y axis\n",
    "xps.move_stage('XYZ.Pos3',8.03) #moves z axis"
   ]
  },
  {
   "cell_type": "code",
   "execution_count": null,
   "metadata": {},
   "outputs": [],
   "source": [
    "pos_all()"
   ]
  },
  {
   "cell_type": "markdown",
   "metadata": {},
   "source": [
    "# Initialize Spectrometer"
   ]
  },
  {
   "cell_type": "code",
   "execution_count": null,
   "metadata": {},
   "outputs": [],
   "source": [
    "from spectra import *\n",
    "# from spectra import capture_photo,ration\n",
    "capture_photo(\"start\",2)"
   ]
  },
  {
   "cell_type": "code",
   "execution_count": null,
   "metadata": {},
   "outputs": [],
   "source": [
    "mirror('on')"
   ]
  },
  {
   "cell_type": "code",
   "execution_count": null,
   "metadata": {},
   "outputs": [],
   "source": [
    "st=7.99\n",
    "zz=[float(st)+(0.02*i) for i in range(4)]\n",
    "zz"
   ]
  },
  {
   "cell_type": "code",
   "execution_count": null,
   "metadata": {},
   "outputs": [],
   "source": [
    "st=7.97\n",
    "\n",
    "zz=[float(st)+(0.02*i) for i in range(6)]\n",
    "for i in range(len(zz)):\n",
    "    xps.move_stage('XYZ.Pos3',zz[i])\n",
    "    print(\"z axis at: \",zz[i])\n",
    "    time.sleep(8)\n"
   ]
  },
  {
   "cell_type": "markdown",
   "metadata": {},
   "source": [
    "# Adjust the z-axis"
   ]
  },
  {
   "cell_type": "code",
   "execution_count": null,
   "metadata": {},
   "outputs": [],
   "source": [
    "##calling the adjust() function will autofocus the z axis.\n",
    "\n",
    "def adjust():\n",
    "    line=1\n",
    "    import timeit\n",
    "#     begin=8.7\n",
    "    start = timeit.default_timer()\n",
    "    import time\n",
    "\n",
    "    st=7.5\n",
    "\n",
    "    zz=[float(st)+(0.1*i) for i in range(11)]\n",
    "    intensity=[]\n",
    "    for i in range(len(zz)):\n",
    "        time.sleep(4)\n",
    "\n",
    "        xps.move_stage('XYZ.Pos3',zz[i])\n",
    "        time.sleep(1)\n",
    "        p=capture_photo('adjust',i,line,1)\n",
    "        intensity.append(p)\n",
    "    mirror('off')\n",
    "   # stop = timeit.default_timer()\n",
    "\n",
    "    #print('Time: ', stop - start)  \n",
    "    #print(intensity)\n",
    "\n",
    "    import numpy as np\n",
    "    ix=intensity.index(np.max(intensity))\n",
    "    xps.move_stage('XYZ.Pos3',zz[ix])\n",
    "    print(\"adjusted z position is: \",zz[ix])\n",
    "    return zz[ix]"
   ]
  },
  {
   "cell_type": "markdown",
   "metadata": {},
   "source": [
    "# Initialize Pressure\n",
    "\n",
    "\n",
    "**current_pressure() reads the current pressure inside the chamber.** \n",
    "\n",
    "**open_valve('valve_name') is used to release gas from valve named as valve_name**\n",
    "\n",
    "**valve_name= vac , out. vac stands for vaccum, out stands for outlet valve. so if you want to release the outlet then type --> open_valve('out')**\n",
    "\n",
    "**To set the pressure inside the chamber, use gopr(pressure_value) function, suppose you need to set the pressure to 510 psi, then write the code --> gopr(510)**\n",
    "\n",
    "**To close all the valves type -> close_all()**\n",
    "\n",
    "**To close vac valve, type -> close_valve('vac')**"
   ]
  },
  {
   "cell_type": "code",
   "execution_count": null,
   "metadata": {},
   "outputs": [],
   "source": [
    "from pressure import close_valve,open_valve,close_all,current_pressure,gopr\n",
    "\n",
    "current_pressure()"
   ]
  },
  {
   "cell_type": "markdown",
   "metadata": {},
   "source": [
    "# Initialize Laser\n",
    "\n",
    "laser_power.power=0.01 # sets the power to 1 mW"
   ]
  },
  {
   "cell_type": "code",
   "execution_count": null,
   "metadata": {},
   "outputs": [],
   "source": [
    "from pymeasure.instruments.lighthousephotonics import Sprout\n",
    "laser_power = Sprout('COM4')\n",
    "laser_power.adapter.connection.baud_rate = 19200\n",
    "laser_power.adapter.connection.read_termination = '\\r'\n",
    "laser_power.adapter.connection.write_termination = '\\r'\n",
    "laser_power.power=0.01"
   ]
  },
  {
   "cell_type": "markdown",
   "metadata": {},
   "source": [
    "# Initialize Mirror"
   ]
  },
  {
   "cell_type": "code",
   "execution_count": null,
   "metadata": {},
   "outputs": [],
   "source": [
    "\n",
    "from flipper import *\n",
    "\n",
    "mirror(\"on\")\n",
    "# mirror(\"off\")"
   ]
  },
  {
   "cell_type": "code",
   "execution_count": null,
   "metadata": {},
   "outputs": [],
   "source": [
    "pos_all()"
   ]
  },
  {
   "cell_type": "markdown",
   "metadata": {},
   "source": [
    "# Directory things"
   ]
  },
  {
   "cell_type": "code",
   "execution_count": null,
   "metadata": {},
   "outputs": [],
   "source": [
    "import os\n",
    "os.getcwd()\n",
    "# os.mkdir('task1')\n",
    "os.chdir(r'task1')"
   ]
  },
  {
   "cell_type": "markdown",
   "metadata": {},
   "source": [
    "# Pattern a spot\n"
   ]
  },
  {
   "cell_type": "code",
   "execution_count": null,
   "metadata": {},
   "outputs": [],
   "source": [
    "print(\"Enter the x,y position: \")\n",
    "\n",
    "x,y=[x for x in input().split()]\n",
    "\n",
    "print(\"Enter the power in mW\")\n",
    "power_i=int(input())\n",
    "\n",
    "print(\"Enter the time of irradiation in ms\")\n",
    "time_i=int(input())\n",
    "\n",
    "print(\"enter spot number\")\n",
    "i=int(input())\n",
    "\n",
    "print(\"Enter the pressure in psi\")\n",
    "pressure_i=int(input())\n",
    "\n",
    "for i in range(3):gopr(pressure_i)"
   ]
  },
  {
   "cell_type": "code",
   "execution_count": null,
   "metadata": {},
   "outputs": [],
   "source": [
    "#move to the position where the patterning will take place\n",
    "# xps.move_stage('XYZ.Pos1',x) #moves x axis\n",
    "# xps.move_stage('XYZ.Pos2',y) #moves y axis\n",
    "# xps.move_stage('XYZ.Pos3',z) #moves z axis\n",
    "\n",
    "\n",
    "##check the spectra for precursor\n",
    "# mirror(\"on\")\n",
    "# GD=capture_photo(\"before\",i) #i is the spot number\n",
    "# mirror(\"off\")\n",
    "\n",
    "\n",
    "####irradiation begins below\n",
    "laser_power.power=((power_i-2.7979)/0.4639)/1000\n",
    "\n",
    "\n",
    "time.sleep(25) #allow the power to reach it's value and get stabilized\n",
    "\n",
    "mirror(\"on\") #irradiation starts\n",
    "time.sleep(time_i/1000) # mirror is open until irradiation period\n",
    "mirror(\"off\")\n",
    "laser_power.power=0.01 # restore laser power to default\n",
    "\n",
    "\n",
    "\n",
    "###now patterning is done. next step is to get the raman spectra\n",
    "\n",
    "# mirror(\"on\") \n",
    "# p=capture_photo(\"after\",i)\n",
    "\n",
    "# print(\"GD ratio is: \",p)\n",
    "\n",
    "#For getting fitted curves, go to curve fit analysis lines and spots.ipynb file\n"
   ]
  },
  {
   "cell_type": "markdown",
   "metadata": {},
   "source": [
    "# Next codes help to manually save the G/D ratio with the input parameters in a csv file"
   ]
  },
  {
   "cell_type": "code",
   "execution_count": null,
   "metadata": {},
   "outputs": [],
   "source": [
    "\n",
    "i=2\n",
    "p=capture_photo(\"after\",i)\n",
    "\n",
    "print(\"GD ratio is: \",p)"
   ]
  },
  {
   "cell_type": "code",
   "execution_count": null,
   "metadata": {},
   "outputs": [],
   "source": [
    "df=pd.DataFrame(columns=['power','time','pressure','ratio'])\n",
    "df['power'].loc[i]=power_i\n",
    "df['time'].loc[i]=time_i\n",
    "df['pressure'].loc[i]=120\n",
    "df['ratio'].loc[i]=p"
   ]
  },
  {
   "cell_type": "code",
   "execution_count": null,
   "metadata": {},
   "outputs": [],
   "source": [
    "df.to_csv('task1.csv')"
   ]
  },
  {
   "cell_type": "code",
   "execution_count": null,
   "metadata": {},
   "outputs": [],
   "source": [
    "mirror(\"on\") #irradiation starts\n",
    "time.sleep(10000/1000) # mirror is open until irradiation period\n",
    "mirror(\"off\")\n",
    "laser_power.power=0.01"
   ]
  },
  {
   "cell_type": "code",
   "execution_count": null,
   "metadata": {},
   "outputs": [],
   "source": [
    "mirror('off')"
   ]
  },
  {
   "cell_type": "code",
   "execution_count": null,
   "metadata": {},
   "outputs": [],
   "source": [
    "mirror('on')"
   ]
  },
  {
   "cell_type": "code",
   "execution_count": null,
   "metadata": {},
   "outputs": [],
   "source": [
    "close_all()\n",
    "\n",
    "# open_valve('out')\n",
    "\n",
    "current_pressure()"
   ]
  }
 ],
 "metadata": {
  "kernelspec": {
   "display_name": "Python 3",
   "language": "python",
   "name": "python3"
  },
  "language_info": {
   "codemirror_mode": {
    "name": "ipython",
    "version": 3
   },
   "file_extension": ".py",
   "mimetype": "text/x-python",
   "name": "python",
   "nbconvert_exporter": "python",
   "pygments_lexer": "ipython3",
   "version": "3.7.6"
  }
 },
 "nbformat": 4,
 "nbformat_minor": 2
}
