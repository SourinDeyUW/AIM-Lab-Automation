{
 "cells": [
  {
   "cell_type": "code",
   "execution_count": 1,
   "metadata": {},
   "outputs": [],
   "source": [
    "from threading import *\n",
    "import time \n",
    "from datetime import datetime\n",
    "from time import sleep\n",
    "from datetime import timedelta"
   ]
  },
  {
   "cell_type": "code",
   "execution_count": 2,
   "metadata": {},
   "outputs": [
    {
     "name": "stdout",
     "output_type": "stream",
     "text": [
      "# XPS host:         192.168.254.254 (XPS-1B81)\n",
      "# Firmware:         XPS-D-N13019\n",
      "# Current Time:     Sun Mar 14 15:58:14 2021\n",
      "# Last Reboot:      Thu Jan  7 10:21:03 2021\n",
      "# Trajectory Group: XYZ\n",
      "# Groups and Stages\n",
      "XYZ (multipleaxesinuse), Status: Not initialized state due to an emergency brake : see positioner error\n",
      "   XYZ.Pos1 (MFA@MFA-CC@XPS-DRV11)\n",
      "      Hardware Status: ZM low level\n",
      "      Positioner Errors: OK\n",
      "   XYZ.Pos2 (MFA@MFA-CC@XPS-DRV11)\n",
      "      Hardware Status: ZM low level\n",
      "      Positioner Errors: OK\n",
      "   XYZ.Pos3 (MFA@MFA-CC@XPS-DRV11)\n",
      "      Hardware Status: ZM low level\n",
      "      Positioner Errors: OK\n"
     ]
    }
   ],
   "source": [
    "#import rpy2.robjects as robjects #r-python interfacing\n",
    "\n",
    "import rpy2.robjects as robjects\n",
    "from pymeasure.instruments import list_resources\n",
    "\n",
    "import ftd2xx  # Thorlabs MFF101\n",
    "import ftd2xx.defines as constants\n",
    "from ftd2xx import listDevices, getDeviceInfoDetail\n",
    "\n",
    "\n",
    "\n",
    "\n",
    "\n",
    "\n",
    "from newportxps import NewportXPS\n",
    "from newportxps.XPS_C8_drivers import XPS, XPSException\n",
    "\n",
    "\n",
    "\n",
    "\n",
    "\n",
    "import numpy as np\n",
    "import csv\n",
    "\n",
    "\n",
    "xpsd_remoteip = '192.168.254.254'\n",
    "# xpsd_hostip ='192.168.0.254'\n",
    "hostname = 'XPS-1b81'\n",
    "\n",
    "xps = NewportXPS(xpsd_remoteip)\n",
    "print(xps.status_report())\n",
    "\n",
    "\n",
    "xps.kill_group('XYZ')\n",
    "xps.initialize_allgroups()\n",
    "xps.home_allgroups()\n",
    "\n",
    "\n",
    "\n",
    "def pos_all():\n",
    "    for sname, _ in xps.stages.items():\n",
    "        print('{}: {}'.format(sname, xps.get_stage_position(sname)))\n",
    "        \n",
    "        \n",
    "\n",
    "\n"
   ]
  },
  {
   "cell_type": "markdown",
   "metadata": {},
   "source": [
    "# Initialize motion controller"
   ]
  },
  {
   "cell_type": "code",
   "execution_count": 3,
   "metadata": {},
   "outputs": [
    {
     "name": "stdout",
     "output_type": "stream",
     "text": [
      "XYZ.Pos1: -8.8497e-05\n",
      "XYZ.Pos2: -0.0001415952\n",
      "XYZ.Pos3: -5.30982e-05\n"
     ]
    },
    {
     "data": {
      "text/plain": [
       "''"
      ]
     },
     "execution_count": 3,
     "metadata": {},
     "output_type": "execute_result"
    }
   ],
   "source": [
    "\n",
    "#pos_all() tells about current position of the motion controller\n",
    "\n",
    "pos_all()\n",
    "\n",
    "\n",
    "xps.move_stage('XYZ.Pos1',10) #moves x axis\n",
    "xps.move_stage('XYZ.Pos2',11) #moves y axis\n",
    "xps.move_stage('XYZ.Pos3',8.03) #moves z axis"
   ]
  },
  {
   "cell_type": "code",
   "execution_count": 125,
   "metadata": {},
   "outputs": [
    {
     "name": "stdout",
     "output_type": "stream",
     "text": [
      "XYZ.Pos1: 9.4999936554\n",
      "XYZ.Pos2: 10.499992056\n",
      "XYZ.Pos3: 8.0300053872\n"
     ]
    }
   ],
   "source": [
    "pos_all()"
   ]
  },
  {
   "cell_type": "markdown",
   "metadata": {},
   "source": [
    "# Initialize Spectrometer"
   ]
  },
  {
   "cell_type": "code",
   "execution_count": 4,
   "metadata": {},
   "outputs": [],
   "source": [
    "from spectra import *\n",
    "# from spectra import capture_photo,ration\n",
    "capture_photo(\"start\",2)"
   ]
  },
  {
   "cell_type": "code",
   "execution_count": 144,
   "metadata": {},
   "outputs": [
    {
     "name": "stdout",
     "output_type": "stream",
     "text": [
      "{'type': 5, 'id': 67369712, 'description': b'APT Filter Flipper', 'serial': b'37000805'}\n"
     ]
    }
   ],
   "source": [
    "mirror('on')"
   ]
  },
  {
   "cell_type": "code",
   "execution_count": 122,
   "metadata": {},
   "outputs": [
    {
     "data": {
      "text/plain": [
       "[7.99, 8.01, 8.03, 8.05]"
      ]
     },
     "execution_count": 122,
     "metadata": {},
     "output_type": "execute_result"
    }
   ],
   "source": [
    "st=7.99\n",
    "zz=[float(st)+(0.02*i) for i in range(4)]\n",
    "zz"
   ]
  },
  {
   "cell_type": "code",
   "execution_count": 123,
   "metadata": {},
   "outputs": [
    {
     "name": "stdout",
     "output_type": "stream",
     "text": [
      "z axis at:  7.97\n",
      "z axis at:  7.989999999999999\n",
      "z axis at:  8.01\n",
      "z axis at:  8.03\n",
      "z axis at:  8.049999999999999\n",
      "z axis at:  8.07\n"
     ]
    }
   ],
   "source": [
    "st=7.97\n",
    "\n",
    "zz=[float(st)+(0.02*i) for i in range(6)]\n",
    "for i in range(len(zz)):\n",
    "    xps.move_stage('XYZ.Pos3',zz[i])\n",
    "    print(\"z axis at: \",zz[i])\n",
    "    time.sleep(8)\n"
   ]
  },
  {
   "cell_type": "markdown",
   "metadata": {},
   "source": [
    "# Adjust the z-axis"
   ]
  },
  {
   "cell_type": "code",
   "execution_count": 50,
   "metadata": {},
   "outputs": [],
   "source": [
    "##calling the adjust() function will autofocus the z axis.\n",
    "\n",
    "def adjust():\n",
    "    line=1\n",
    "    import timeit\n",
    "#     begin=8.7\n",
    "    start = timeit.default_timer()\n",
    "    import time\n",
    "\n",
    "    st=7.5\n",
    "\n",
    "    zz=[float(st)+(0.1*i) for i in range(11)]\n",
    "    intensity=[]\n",
    "    for i in range(len(zz)):\n",
    "        time.sleep(4)\n",
    "\n",
    "        xps.move_stage('XYZ.Pos3',zz[i])\n",
    "        time.sleep(1)\n",
    "        p=capture_photo('adjust',i,line,1)\n",
    "        intensity.append(p)\n",
    "    mirror('off')\n",
    "   # stop = timeit.default_timer()\n",
    "\n",
    "    #print('Time: ', stop - start)  \n",
    "    #print(intensity)\n",
    "\n",
    "    import numpy as np\n",
    "    ix=intensity.index(np.max(intensity))\n",
    "    xps.move_stage('XYZ.Pos3',zz[ix])\n",
    "    print(\"adjusted z position is: \",zz[ix])\n",
    "    return zz[ix]"
   ]
  },
  {
   "cell_type": "markdown",
   "metadata": {},
   "source": [
    "# Initialize Pressure\n",
    "\n",
    "\n",
    "**current_pressure() reads the current pressure inside the chamber.** \n",
    "\n",
    "**open_valve('valve_name') is used to release gas from valve named as valve_name**\n",
    "\n",
    "**valve_name= vac , out. vac stands for vaccum, out stands for outlet valve. so if you want to release the outlet then type --> open_valve('out')**\n",
    "\n",
    "**To set the pressure inside the chamber, use gopr(pressure_value) function, suppose you need to set the pressure to 510 psi, then write the code --> gopr(510)**\n",
    "\n",
    "**To close all the valves type -> close_all()**\n",
    "\n",
    "**To close vac valve, type -> close_valve('vac')**"
   ]
  },
  {
   "cell_type": "code",
   "execution_count": 37,
   "metadata": {},
   "outputs": [
    {
     "data": {
      "text/plain": [
       "121"
      ]
     },
     "execution_count": 37,
     "metadata": {},
     "output_type": "execute_result"
    }
   ],
   "source": [
    "from pressure import close_valve,open_valve,close_all,current_pressure,gopr\n",
    "\n",
    "current_pressure()"
   ]
  },
  {
   "cell_type": "markdown",
   "metadata": {},
   "source": [
    "# Initialize Laser\n",
    "\n",
    "laser_power.power=0.01 # sets the power to 1 mW"
   ]
  },
  {
   "cell_type": "code",
   "execution_count": 38,
   "metadata": {},
   "outputs": [
    {
     "name": "stderr",
     "output_type": "stream",
     "text": [
      "C:\\Users\\UWAdmin\\Anaconda3\\lib\\site-packages\\pyvisa\\highlevel.py:3355: FutureWarning: get_instrument is deprecated and will be removed in 1.12, use open_resource instead.\n",
      "  FutureWarning,\n"
     ]
    }
   ],
   "source": [
    "from pymeasure.instruments.lighthousephotonics import Sprout\n",
    "laser_power = Sprout('COM4')\n",
    "laser_power.adapter.connection.baud_rate = 19200\n",
    "laser_power.adapter.connection.read_termination = '\\r'\n",
    "laser_power.adapter.connection.write_termination = '\\r'\n",
    "laser_power.power=0.01"
   ]
  },
  {
   "cell_type": "markdown",
   "metadata": {},
   "source": [
    "# Initialize Mirror"
   ]
  },
  {
   "cell_type": "code",
   "execution_count": 40,
   "metadata": {},
   "outputs": [
    {
     "name": "stdout",
     "output_type": "stream",
     "text": [
      "{'type': 5, 'id': 67369712, 'description': b'APT Filter Flipper', 'serial': b'37000805'}\n"
     ]
    }
   ],
   "source": [
    "\n",
    "from flipper import *\n",
    "\n",
    "mirror(\"on\")\n",
    "# mirror(\"off\")"
   ]
  },
  {
   "cell_type": "code",
   "execution_count": 61,
   "metadata": {},
   "outputs": [
    {
     "name": "stdout",
     "output_type": "stream",
     "text": [
      "XYZ.Pos1: 9.0000033048\n",
      "XYZ.Pos2: 10.499992056\n",
      "XYZ.Pos3: 8.1800078022\n"
     ]
    }
   ],
   "source": [
    "pos_all()"
   ]
  },
  {
   "cell_type": "markdown",
   "metadata": {},
   "source": [
    "# Directory things"
   ]
  },
  {
   "cell_type": "code",
   "execution_count": 59,
   "metadata": {},
   "outputs": [],
   "source": [
    "import os\n",
    "os.getcwd()\n",
    "# os.mkdir('task1')\n",
    "os.chdir(r'task1')"
   ]
  },
  {
   "cell_type": "markdown",
   "metadata": {},
   "source": [
    "# Pattern a spot\n"
   ]
  },
  {
   "cell_type": "code",
   "execution_count": 101,
   "metadata": {},
   "outputs": [
    {
     "name": "stdout",
     "output_type": "stream",
     "text": [
      "Enter the x,y position: \n",
      "9.5 11\n",
      "Enter the power in mW\n",
      "50\n",
      "Enter the time of irradiation in ms\n",
      "1000\n",
      "enter spot number\n",
      "4\n",
      "Enter the pressure in psi\n",
      "120\n",
      "129\n",
      "128\n",
      "128\n",
      "129\n",
      "129\n",
      "128\n",
      "129\n",
      "129\n",
      "128\n",
      "129\n",
      "129\n",
      "128\n",
      "128\n",
      "128\n",
      "128\n",
      "127\n",
      "128\n",
      "128\n",
      "127\n",
      "127\n",
      "127\n",
      "126\n",
      "127\n",
      "127\n",
      "126\n",
      "126\n",
      "126\n",
      "126\n",
      "125\n",
      "126\n",
      "126\n",
      "125\n",
      "125\n",
      "125\n",
      "124\n",
      "124\n",
      "125\n",
      "124\n",
      "123\n",
      "124\n",
      "123\n",
      "123\n",
      "123\n",
      "122\n",
      "122\n",
      "122\n",
      "122\n",
      "121\n",
      "121\n",
      "121\n",
      "121\n",
      "done\n",
      "done\n",
      "122\n",
      "122\n",
      "123\n",
      "122\n",
      "123\n",
      "123\n",
      "122\n",
      "123\n",
      "123\n",
      "122\n",
      "122\n",
      "123\n",
      "122\n",
      "122\n",
      "122\n",
      "122\n",
      "121\n",
      "122\n",
      "121\n",
      "121\n",
      "121\n",
      "121\n",
      "120\n",
      "done\n"
     ]
    }
   ],
   "source": [
    "print(\"Enter the x,y position: \")\n",
    "\n",
    "x,y=[x for x in input().split()]\n",
    "\n",
    "print(\"Enter the power in mW\")\n",
    "power_i=int(input())\n",
    "\n",
    "print(\"Enter the time of irradiation in ms\")\n",
    "time_i=int(input())\n",
    "\n",
    "print(\"enter spot number\")\n",
    "i=int(input())\n",
    "\n",
    "print(\"Enter the pressure in psi\")\n",
    "pressure_i=int(input())\n",
    "\n",
    "for i in range(3):gopr(pressure_i)"
   ]
  },
  {
   "cell_type": "code",
   "execution_count": 109,
   "metadata": {},
   "outputs": [
    {
     "name": "stdout",
     "output_type": "stream",
     "text": [
      "{'type': 5, 'id': 67369712, 'description': b'APT Filter Flipper', 'serial': b'37000805'}\n",
      "{'type': 5, 'id': 67369712, 'description': b'APT Filter Flipper', 'serial': b'37000805'}\n"
     ]
    }
   ],
   "source": [
    "#move to the position where the patterning will take place\n",
    "# xps.move_stage('XYZ.Pos1',x) #moves x axis\n",
    "# xps.move_stage('XYZ.Pos2',y) #moves y axis\n",
    "# xps.move_stage('XYZ.Pos3',z) #moves z axis\n",
    "\n",
    "\n",
    "##check the spectra for precursor\n",
    "# mirror(\"on\")\n",
    "# GD=capture_photo(\"before\",i) #i is the spot number\n",
    "# mirror(\"off\")\n",
    "\n",
    "\n",
    "####irradiation begins below\n",
    "laser_power.power=((power_i-2.7979)/0.4639)/1000\n",
    "\n",
    "\n",
    "time.sleep(25) #allow the power to reach it's value and get stabilized\n",
    "\n",
    "mirror(\"on\") #irradiation starts\n",
    "time.sleep(time_i/1000) # mirror is open until irradiation period\n",
    "mirror(\"off\")\n",
    "laser_power.power=0.01 # restore laser power to default\n",
    "\n",
    "\n",
    "\n",
    "###now patterning is done. next step is to get the raman spectra\n",
    "\n",
    "# mirror(\"on\") \n",
    "# p=capture_photo(\"after\",i)\n",
    "\n",
    "# print(\"GD ratio is: \",p)\n",
    "\n",
    "#For getting fitted curves, go to curve fit analysis lines and spots.ipynb file\n"
   ]
  },
  {
   "cell_type": "code",
   "execution_count": 78,
   "metadata": {},
   "outputs": [
    {
     "name": "stdout",
     "output_type": "stream",
     "text": [
      "hello\n"
     ]
    }
   ],
   "source": [
    "time.sleep(time_i/1000)\n",
    "print('hello')"
   ]
  },
  {
   "cell_type": "code",
   "execution_count": 70,
   "metadata": {},
   "outputs": [],
   "source": [
    "power_i=100\n",
    "laser_power.power=((power_i-2.7979)/0.4639)/1000"
   ]
  },
  {
   "cell_type": "code",
   "execution_count": 108,
   "metadata": {},
   "outputs": [],
   "source": [
    "laser_power.power=0.01"
   ]
  },
  {
   "cell_type": "code",
   "execution_count": 113,
   "metadata": {},
   "outputs": [
    {
     "name": "stdout",
     "output_type": "stream",
     "text": [
      "{'type': 5, 'id': 67369712, 'description': b'APT Filter Flipper', 'serial': b'37000805'}\n"
     ]
    }
   ],
   "source": [
    "mirror('on')"
   ]
  },
  {
   "cell_type": "code",
   "execution_count": 41,
   "metadata": {},
   "outputs": [
    {
     "name": "stdout",
     "output_type": "stream",
     "text": [
      " \n",
      " \n",
      "patterning not done\n",
      "GD ratio is:  0.0\n"
     ]
    }
   ],
   "source": [
    "i=2\n",
    "p=capture_photo(\"after\",i)\n",
    "\n",
    "print(\"GD ratio is: \",p)"
   ]
  },
  {
   "cell_type": "code",
   "execution_count": 29,
   "metadata": {},
   "outputs": [],
   "source": [
    "df=pd.DataFrame(columns=['power','time','pressure','ratio'])\n",
    "df['power'].loc[i]=power_i\n",
    "df['time'].loc[i]=time_i\n",
    "df['pressure'].loc[i]=120\n",
    "df['ratio'].loc[i]=p"
   ]
  },
  {
   "cell_type": "code",
   "execution_count": 31,
   "metadata": {},
   "outputs": [],
   "source": [
    "df.to_csv('task1.csv')"
   ]
  },
  {
   "cell_type": "code",
   "execution_count": 201,
   "metadata": {},
   "outputs": [
    {
     "name": "stdout",
     "output_type": "stream",
     "text": [
      "{'type': 5, 'id': 67369712, 'description': b'APT Filter Flipper', 'serial': b'37000805'}\n",
      "{'type': 5, 'id': 67369712, 'description': b'APT Filter Flipper', 'serial': b'37000805'}\n"
     ]
    }
   ],
   "source": [
    "mirror(\"on\") #irradiation starts\n",
    "time.sleep(10000/1000) # mirror is open until irradiation period\n",
    "mirror(\"off\")\n",
    "laser_power.power=0.01"
   ]
  },
  {
   "cell_type": "code",
   "execution_count": 203,
   "metadata": {},
   "outputs": [
    {
     "name": "stdout",
     "output_type": "stream",
     "text": [
      "{'type': 5, 'id': 67369712, 'description': b'APT Filter Flipper', 'serial': b'37000805'}\n"
     ]
    }
   ],
   "source": [
    "mirror('off')"
   ]
  },
  {
   "cell_type": "code",
   "execution_count": 202,
   "metadata": {},
   "outputs": [
    {
     "name": "stdout",
     "output_type": "stream",
     "text": [
      "{'type': 5, 'id': 67369712, 'description': b'APT Filter Flipper', 'serial': b'37000805'}\n"
     ]
    }
   ],
   "source": [
    "mirror('on')"
   ]
  },
  {
   "cell_type": "code",
   "execution_count": 207,
   "metadata": {},
   "outputs": [
    {
     "data": {
      "text/plain": [
       "15"
      ]
     },
     "execution_count": 207,
     "metadata": {},
     "output_type": "execute_result"
    }
   ],
   "source": [
    "close_all()\n",
    "\n",
    "# open_valve('out')\n",
    "\n",
    "current_pressure()"
   ]
  }
 ],
 "metadata": {
  "kernelspec": {
   "display_name": "Python 3",
   "language": "python",
   "name": "python3"
  },
  "language_info": {
   "codemirror_mode": {
    "name": "ipython",
    "version": 3
   },
   "file_extension": ".py",
   "mimetype": "text/x-python",
   "name": "python",
   "nbconvert_exporter": "python",
   "pygments_lexer": "ipython3",
   "version": "3.7.3"
  }
 },
 "nbformat": 4,
 "nbformat_minor": 2
}
