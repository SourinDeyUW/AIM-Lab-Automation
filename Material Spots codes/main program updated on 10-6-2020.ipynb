{
 "cells": [
  {
   "cell_type": "code",
   "execution_count": null,
   "metadata": {},
   "outputs": [],
   "source": [
    "\n",
    "import pandas as pd\n",
    "import csv\n",
    "df=pd.read_csv('dataset-2.csv')\n",
    "k=1\n",
    "m=1\n",
    "lth=len(df['ratio'])\n",
    "median=[]\n",
    "for i in range(lth):\n",
    "    if i==k+1:\n",
    "        df=pd.read_csv('dataset-2.csv')\n",
    "        vals=np.sort([df['ratio'][k-1],df['ratio'][k],df['ratio'][k+1]])\n",
    "        median.append(vals[1])\n",
    "        k=k+3\n",
    "        f = open('dataset.csv', 'r')\n",
    "        reader = csv.reader(f)\n",
    "        mylist = list(reader)\n",
    "        f.close()\n",
    "        mylist[m][0] =df['power'][i]\n",
    "        mylist[m][1] = df['time'][i]\n",
    "        mylist[m][2] = df['pressure'][i]\n",
    "        mylist[m][3] = vals[1]\n",
    "        my_new_list = open('dataset.csv', 'w', newline = '')\n",
    "        csv_writer = csv.writer(my_new_list)\n",
    "        csv_writer.writerows(mylist)\n",
    "        my_new_list.close()\n",
    "        m+=1\n",
    "\n",
    "median=[i for i in median if str(i)!='nan']\n",
    "#print(median)\n",
    "        \n",
    "        "
   ]
  },
  {
   "cell_type": "code",
   "execution_count": 8,
   "metadata": {},
   "outputs": [
    {
     "name": "stdout",
     "output_type": "stream",
     "text": [
      "24\n"
     ]
    }
   ],
   "source": [
    "#write below r prediction\n",
    "#write the parameter 2 times, total 3 times\n",
    "import csv\n",
    "import pandas as pd\n",
    "df2=pd.read_csv('dataset-2.csv')\n",
    "ln=len(df2['power'])\n",
    "m=ln\n",
    "print(ln)\n",
    "counter=m\n",
    "for i in range(2):\n",
    "    toAdd = [df2['power'][m-1],df2['time'][m-1],df2['pressure'][m-1]]\n",
    "    filename=\"dataset-2.csv\"\n",
    "    with open(filename, \"r\") as infile:\n",
    "        reader = list(csv.reader(infile))\n",
    "        reader.insert(counter+1, toAdd)\n",
    "\n",
    "    with open(filename, \"w\", newline='') as outfile:\n",
    "        writer = csv.writer(outfile)\n",
    "        for line in reader:\n",
    "            writer.writerow(line)\n"
   ]
  },
  {
   "cell_type": "code",
   "execution_count": 11,
   "metadata": {},
   "outputs": [],
   "source": [
    "import pandas as pd\n",
    "import csv\n",
    "import numpy as np\n",
    "df=pd.read_csv('dataset-2.csv')\n",
    "k=1\n",
    "m=1\n",
    "lth=len(df['ratio'])\n",
    "median=[]\n",
    "for i in range(lth):\n",
    "    if i==k+1:\n",
    "        df=pd.read_csv('dataset-2.csv')\n",
    "        vals=np.sort([df['ratio'][k-1],df['ratio'][k],df['ratio'][k+1]])\n",
    "        median.append(vals[1])\n",
    "        k=k+3\n",
    "        counter=i\n",
    "        toAdd = [df2['power'][i],df2['time'][i],df2['pressure'][i],vals[1]]\n",
    "        filename=\"dataset.csv\"\n",
    "        with open(filename, \"r\") as infile:\n",
    "            reader = list(csv.reader(infile))\n",
    "            reader.insert(counter+1, toAdd)\n",
    "\n",
    "        with open(filename, \"w\", newline='') as outfile:\n",
    "            writer = csv.writer(outfile)\n",
    "            for line in reader:\n",
    "                writer.writerow(line)\n",
    "\n",
    "median=[i for i in median if str(i)!='nan']"
   ]
  },
  {
   "cell_type": "code",
   "execution_count": null,
   "metadata": {},
   "outputs": [],
   "source": []
  }
 ],
 "metadata": {
  "kernelspec": {
   "display_name": "Python 3",
   "language": "python",
   "name": "python3"
  },
  "language_info": {
   "codemirror_mode": {
    "name": "ipython",
    "version": 3
   },
   "file_extension": ".py",
   "mimetype": "text/x-python",
   "name": "python",
   "nbconvert_exporter": "python",
   "pygments_lexer": "ipython3",
   "version": "3.7.6"
  }
 },
 "nbformat": 4,
 "nbformat_minor": 4
}
