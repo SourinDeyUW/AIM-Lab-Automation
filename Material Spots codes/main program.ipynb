{
 "cells": [
  {
   "cell_type": "markdown",
   "metadata": {},
   "source": [
    "**Import file named as pressure.py for the Pressure**\n"
   ]
  },
  {
   "cell_type": "code",
   "execution_count": null,
   "metadata": {},
   "outputs": [],
   "source": [
    "path=r'C:\\Users\\UWAdmin\\Desktop\\AIM-Lab-Automation-master\\AIM-Lab-Automation-master\\codes'\n",
    "import os\n",
    "#os.chdir(path)\n",
    "\n",
    "from pressure import close_valve,open_valve,close_all,current_pressure,gopr\n",
    "current_pressure()"
   ]
  },
  {
   "cell_type": "markdown",
   "metadata": {},
   "source": [
    "**Make sure all the valves are closed and check the current pressure**"
   ]
  },
  {
   "cell_type": "code",
   "execution_count": null,
   "metadata": {},
   "outputs": [],
   "source": [
    "close_all()\n",
    "current_pressure()\n"
   ]
  },
  {
   "cell_type": "markdown",
   "metadata": {},
   "source": [
    "**Vaccum the chamber**"
   ]
  },
  {
   "cell_type": "code",
   "execution_count": null,
   "metadata": {},
   "outputs": [],
   "source": [
    "open_valve('vac')"
   ]
  },
  {
   "cell_type": "code",
   "execution_count": null,
   "metadata": {},
   "outputs": [],
   "source": [
    "close_valve('vac')"
   ]
  },
  {
   "cell_type": "markdown",
   "metadata": {},
   "source": [
    "**Create Initial random dataset**"
   ]
  },
  {
   "cell_type": "code",
   "execution_count": null,
   "metadata": {},
   "outputs": [],
   "source": [
    "##Create the initial random dataset\n",
    "\n",
    "import numpy as np\n",
    "import csv\n",
    "power=[]\n",
    "time=[]\n",
    "pressure=[]\n",
    "gas=[]\n",
    "print(\"Enter number of initial samples: \")\n",
    "n=int(input())\n",
    "for x in range(n):\n",
    "    power.append(np.random.randint(150,5000))\n",
    "    time.append(np.random.randint(500,10000))\n",
    "    pressure.append(np.random.randint(100,1000))\n",
    "\n",
    "    \n",
    "from datetime import date\n",
    "\n",
    "p=str(date.today())\n",
    "path=r'C:\\Users\\UWAdmin\\Desktop\\AIM-Lab-Automation-master\\AIM-Lab-Automation-master\\codes'\n",
    "import os\n",
    "os.chdir(path)\n",
    "os.mkdir('Campaign ' + p)\n",
    "os.chdir('Campaign ' + p)\n",
    "row=['power','time','pressure','ratio']\n",
    "with open('dataset.csv', 'w', newline='') as f:\n",
    "        writer = csv.writer(f)\n",
    "        writer.writerow(row)\n",
    "        writer.writerows(zip(power,time,pressure))\n",
    "        \n",
    "os.chdir(path)"
   ]
  },
  {
   "cell_type": "code",
   "execution_count": null,
   "metadata": {},
   "outputs": [],
   "source": [
    "import os\n",
    "os.getcwd()"
   ]
  },
  {
   "cell_type": "markdown",
   "metadata": {},
   "source": [
    "## Run the sections A, B, C, D sequentially. Then the main program is ready to run and conduct experiment."
   ]
  },
  {
   "cell_type": "markdown",
   "metadata": {},
   "source": [
    "## (A) Next cells before B are to initiate motion controller."
   ]
  },
  {
   "cell_type": "code",
   "execution_count": null,
   "metadata": {},
   "outputs": [],
   "source": [
    "#from pymeasure.instruments.newport import ESP300\n",
    "from pymeasure.instruments import list_resources\n",
    "\n",
    "import ftd2xx  # Thorlabs MFF101\n",
    "import ftd2xx.defines as constants\n",
    "from ftd2xx import listDevices, getDeviceInfoDetail\n",
    "\n",
    "from time import sleep"
   ]
  },
  {
   "cell_type": "code",
   "execution_count": null,
   "metadata": {},
   "outputs": [],
   "source": [
    "from newportxps import NewportXPS\n",
    "from newportxps.XPS_C8_drivers import XPS, XPSException\n",
    "import pysftp\n",
    "\n",
    "# from ophyd import EpicsSignal\n",
    "from collections import OrderedDict\n",
    "import yaqc\n",
    "import os\n",
    "import platform"
   ]
  },
  {
   "cell_type": "code",
   "execution_count": null,
   "metadata": {},
   "outputs": [],
   "source": [
    "xpsd_remoteip = '192.168.254.254'\n",
    "# xpsd_hostip ='192.168.0.254'\n",
    "hostname = 'XPS-1b81'\n",
    "\n",
    "xps = NewportXPS(hostname)\n",
    "print(xps.status_report())"
   ]
  },
  {
   "cell_type": "code",
   "execution_count": null,
   "metadata": {},
   "outputs": [],
   "source": [
    "print(xps.status_report())"
   ]
  },
  {
   "cell_type": "code",
   "execution_count": null,
   "metadata": {},
   "outputs": [],
   "source": [
    "xps.stages"
   ]
  },
  {
   "cell_type": "code",
   "execution_count": null,
   "metadata": {},
   "outputs": [],
   "source": [
    "xps.kill_group('XYZ')\n",
    "xps.initialize_allgroups()\n",
    "xps.home_allgroups()"
   ]
  },
  {
   "cell_type": "code",
   "execution_count": null,
   "metadata": {},
   "outputs": [],
   "source": [
    "def pos_all():\n",
    "    for sname, _ in xps.stages.items():\n",
    "        print('{}: {}'.format(sname, xps.get_stage_position(sname)))"
   ]
  },
  {
   "cell_type": "code",
   "execution_count": null,
   "metadata": {},
   "outputs": [],
   "source": [
    "pos_all()"
   ]
  },
  {
   "cell_type": "markdown",
   "metadata": {},
   "source": [
    "## (B)"
   ]
  },
  {
   "cell_type": "code",
   "execution_count": null,
   "metadata": {},
   "outputs": [],
   "source": [
    "from __future__ import print_function\n",
    "from ipywidgets import interact, interactive, fixed, interact_manual\n",
    "import ipywidgets as widgets"
   ]
  },
  {
   "cell_type": "markdown",
   "metadata": {},
   "source": [
    "## (C) The next bunch of code should be run to initialize the Spectrometer (PrincetonInstruments Lightfield Software) and loads the curve fitting code"
   ]
  },
  {
   "cell_type": "code",
   "execution_count": null,
   "metadata": {},
   "outputs": [],
   "source": [
    "from spectra import capture_photo,ration\n",
    "capture_photo(\"start\",2) #it starts the lightfield software\n",
    "import pandas as pd\n"
   ]
  },
  {
   "cell_type": "markdown",
   "metadata": {},
   "source": [
    "## (D) Import the flipper mirror and Laser Power controlling package**"
   ]
  },
  {
   "cell_type": "code",
   "execution_count": null,
   "metadata": {},
   "outputs": [],
   "source": [
    "from flipper import mirror\n",
    "#mirror('off')\n",
    "from pymeasure.instruments.lighthousephotonics import Sprout\n",
    "laser_power = Sprout('COM8')\n",
    "laser_power.adapter.connection.baud_rate = 19200\n",
    "laser_power.adapter.connection.read_termination = '\\r'\n",
    "laser_power.adapter.connection.write_termination = '\\r'\n",
    "laser_power.power=0.01"
   ]
  },
  {
   "cell_type": "code",
   "execution_count": null,
   "metadata": {},
   "outputs": [],
   "source": [
    "%%javascript\n",
    "IPython.OutputArea.prototype._should_scroll = function(lines) {\n",
    "    return false;\n",
    "}"
   ]
  },
  {
   "cell_type": "markdown",
   "metadata": {},
   "source": [
    "**Before beginning the experiment, change the current directory to the current campaign folder**"
   ]
  },
  {
   "cell_type": "code",
   "execution_count": null,
   "metadata": {},
   "outputs": [],
   "source": [
    "    \n",
    "from datetime import date\n",
    "pp=str(date.today())\n",
    "os.chdir('Campaign ' + pp)"
   ]
  },
  {
   "cell_type": "markdown",
   "metadata": {},
   "source": [
    "## Main Program to begin the experiment\n",
    "**Here the main experiment begins**"
   ]
  },
  {
   "cell_type": "code",
   "execution_count": null,
   "metadata": {
    "scrolled": true
   },
   "outputs": [],
   "source": [
    "\n",
    "import pandas as pd\n",
    "laser_power.power=0.01\n",
    "import time\n",
    "import os\n",
    "\n",
    "df=pd.read_csv(\"dataset.csv\")\n",
    "df.head()\n",
    "power_of_file=df[\"power\"]\n",
    "time_of_file=df[\"time\"]\n",
    "pressure_of_file=df['pressure']\n",
    "\n",
    "\n",
    "#initialize position\n",
    "print(\"Initializing starts\\n\")\n",
    "\n",
    "pos_x=[]\n",
    "pos_y=[]\n",
    "import numpy as np\n",
    "p=2\n",
    "p2=2\n",
    "print(\"Enter the (y1,x1) coordinate\")\n",
    "co=[float(p) for p in input().split()]\n",
    "\n",
    "\n",
    "print(\"Enter the (y2,x2) coordinate\")\n",
    "co1=[float(p2) for p2 in input().split()]\n",
    "\n",
    "\n",
    "\n",
    "print(\"Enter the step size of y, then x\")\n",
    "s=2\n",
    "step=[float(s) for s in input().split()]\n",
    "\n",
    "\n",
    "pos_x=np.arange(co[0],co1[0]+step[0],step[0])\n",
    "pos_y=np.arange(co[1],co1[1]+step[1],step[1])\n",
    "\n",
    "        \n",
    "print(pos_x)\n",
    "print(pos_y)\n",
    "\n",
    "position=[]\n",
    "for i in range(len(pos_y)):\n",
    "    for j in range(len(pos_x)):\n",
    "        position.append([pos_x[j],pos_y[i]])\n",
    "\n",
    "\n",
    "\n",
    "mirror('off') #make sure mirror is off\n",
    "capture_photo(\"bg\",1)\n",
    "laser_power.power=0.01   #make sure laser power is down to 0.01 W\n",
    "print(\"\\nPatterning will be started within 10 seconds\\n\")\n",
    "time.sleep(10)\n",
    "\n",
    "mirror('off')\n",
    "\n",
    "\n",
    "xps.move_stage('XYZ.X',position[0][0])\n",
    "xps.move_stage('XYZ.Y',position[0][1])\n",
    "\n",
    "\n",
    "\n",
    "\n",
    "vv=[]\n",
    "#time.sleep(40)\n",
    "print(\"\\nPatterning Starts\\n\")\n",
    "fitdata=[]\n",
    "for i in range(4,5):\n",
    "    import csv\n",
    "    import pandas as pd\n",
    "    import math\n",
    "      \n",
    "    data2=pd.read_csv(\"dataset.csv\")\n",
    "    rto=data2[\"ratio\"]\n",
    "    y_unique=[]\n",
    "    for m in rto:\n",
    "        if m!=0 and m not in y_unique and  math.isnan(m)!=1:y_unique.append(m)\n",
    "\n",
    "    number_of_unique_ratios=len(y_unique)\n",
    "    \n",
    "   \n",
    "    \n",
    "    if number_of_unique_ratios==6:print(\"AI has started thinking !\")\n",
    "    if i>=number_of_unique_ratios and i>=6:\n",
    "        import rpy2.robjects as robjects\n",
    "        robjects.r('''\n",
    "        sourin<-function(s){\n",
    "  \n",
    "        if(s==1){\n",
    "        require(XML)\n",
    "        \n",
    "          suppressWarnings({suppressMessages({\n",
    "            library(mlrMBO)\n",
    "            library(ggplot2)\n",
    "            library(doMC)\n",
    "          })})\n",
    "\n",
    "          ps = makeParamSet(\n",
    "            makeIntegerParam(\"power\", lower = 151, upper =5000),\n",
    "            makeIntegerParam(\"time\", lower = 500, upper = 10000),\n",
    "            makeIntegerParam(\"pressure\", lower = 100, upper = 1000)\n",
    "            \n",
    "          )\n",
    "\n",
    "          ctrl = makeMBOControl(y.name = \"ratio\")\n",
    "          ctrl = setMBOControlInfill(ctrl, opt = \"focussearch\",opt.focussearch.maxit = 10, opt.focussearch.points = 10000, crit =makeMBOInfillCritCB(cb.lambda=4))\n",
    "        \n",
    "        #dataset-2 should be replaced and later this line as well\n",
    "          data=read.csv(\"dataset.csv\")\n",
    "        \n",
    "        data<-na.omit(data)\n",
    "          suppressMessages({opt.state = initSMBO(par.set = ps,design = data, control = ctrl, minimize = FALSE, noisy = TRUE)})\n",
    "          \n",
    "          print(\"Proposed parameters:\")\n",
    "          prop <- suppressWarnings({proposePoints(opt.state)})\n",
    "          print(prop$prop.points) \n",
    "          print(prop$crit.components)\n",
    "          saveRDS(prop,'./prop.rds')\n",
    "          saveRDS(opt.state,'./opt.state.rds')\n",
    "          dummy_ratio=0\n",
    "          cat(\"Expected value (upper bound):\\n\")\n",
    "          cat(paste(prop$crit.components$mean, \" (\", \\\n",
    "          prop$crit.components$mean + prop$crit.components$se, \")\\n\", sep = \"\"))\n",
    "          \n",
    "          x<-c(prop$prop.points,dummy_ratio,prop$crit.components$mean,\\\n",
    "          prop$crit.components$mean + prop$crit.components$se)\n",
    "          \n",
    "          x2<-c(prop$prop.points)\n",
    "          #data_plot=read.csv(\"plot_data.csv\")\n",
    "          \n",
    "          \n",
    "          #dataset-2 should be replaced and later this line as well\n",
    "          write.table(x2, file = \"dataset.csv\", sep = \",\",\\\n",
    "          append = TRUE, quote = FALSE,col.names = FALSE, row.names = FALSE)\n",
    "          \n",
    "          #write.table(x, file = \"plot_data.csv\", sep = \",\",\\\n",
    "          #append = TRUE, quote = FALSE,col.names = FALSE, row.names = FALSE)\n",
    "        \n",
    "        }\n",
    "        else{\n",
    "          prop=readRDS('./prop.rds')\n",
    "          opt.state=readRDS('./opt.state.rds')\n",
    "          library(mlrMBO)\n",
    "          print(prop$crit.components)\n",
    "          print(prop$prop.points)\n",
    "          print(\"Proposed parameters:\")\n",
    "          updateSMBO(opt.state, x = prop$prop.points, y = s)\n",
    "          prop <- suppressWarnings({proposePoints(opt.state)})\n",
    "          print(prop$prop.points) \n",
    "          print(prop$crit.components)\n",
    "          saveRDS(prop,'./prop.rds')\n",
    "          saveRDS(opt.state,'./opt.state.rds')\n",
    "          dummy_ratio=0\n",
    "          cat(\"Expected value (upper bound):\\n\")\n",
    "          cat(paste(prop$crit.components$mean, \" (\", prop$crit.components$mean + prop$crit.components$se, \")\\n\", sep = \"\"))\n",
    "          x<-c(prop$prop.points,dummy_ratio,prop$crit.components$mean,prop$crit.components$mean + prop$crit.components$se)\n",
    "          x2<-c(prop$prop.points)\n",
    "          #data_plot=read.csv(\"plot_data.csv\")\n",
    "          \n",
    "          #dataset-2 should be replaced and later this line as well\n",
    "          write.table(x2, file = \"dataset.csv\", sep = \",\", append = TRUE, quote = FALSE,col.names = FALSE, row.names = FALSE)\n",
    "          #write.table(x, file = \"plot_data.csv\", sep = \",\", append = TRUE, quote = FALSE,col.names = FALSE, row.names = FALSE)\n",
    "        \n",
    "        }}\n",
    "\n",
    "        ''')\n",
    "        if i==6 and number_of_unique_ratios>=3:\n",
    "            rsum=robjects.r['sourin']\n",
    "            rsum((1))\n",
    "        \n",
    "        \n",
    "      \n",
    "    df=pd.read_csv(\"dataset.csv\")\n",
    "    power_of_file=df[\"power\"]\n",
    "    time_of_file=df[\"time\"]\n",
    "    pressure_of_file=df['pressure']\n",
    "    xp=position[i][0]\n",
    "    yp=position[i][1]\n",
    "    \n",
    "    xps.move_stage('XYZ.X',xp)\n",
    "    xps.move_stage('XYZ.Y',yp)\n",
    "    for j in range(3):\n",
    "        gopr(pressure_of_file[i])\n",
    "        close_all()\n",
    "        time.sleep(5)\n",
    "    print(\"\\n Pressure is now : \",pressure_of_file[i],\"\\n\")\n",
    "    \n",
    "    time.sleep(10)\n",
    "    \n",
    "\n",
    "    v=adjust()\n",
    "\n",
    "    ###begin pre raman spectra check of GO\n",
    "    \n",
    "    mirror(\"on\")\n",
    "    laser_power.power=0.01\n",
    "    GD=capture_photo(\"first\",i)\n",
    "    \n",
    "    mirror('off')\n",
    "    ##Stops\n",
    "    if float(GD)<.5:\n",
    "        print(\"Moving to next point\")\n",
    "    else:\n",
    "        a=power_of_file[i]\n",
    "        \n",
    "        print(\"\\n\")\n",
    "        print(\"The power is now: \",a,\"\\n\")\n",
    "        laser_power.power=((a-2.7979)/0.4639)/1000\n",
    "        #laser_power.power=((a+10.719)/0.3355)/1000\n",
    "        time.sleep(30)\n",
    "        t=time_of_file[i] \n",
    "        laser_time=float(t/1e3)\n",
    "        print(\"\\n\")\n",
    "        print(\"The time is now: \",laser_time,\"\\n\")\n",
    "        mirror('on') #irradiation begins\n",
    "\n",
    "        time.sleep(laser_time+1) #exposure time\n",
    "\n",
    "        mirror('off')\n",
    "        time.sleep(5)\n",
    "        laser_power.power=0.01\n",
    "        time.sleep(4)\n",
    "\n",
    "        #begin capturing spectra\n",
    "        mirror(\"on\")\n",
    "        import time\n",
    "   \n",
    "        p=capture_photo(\"on\",i) \n",
    "        #fitdata.append([p,twoGD,twoD,G,WD,WG])\n",
    "        print(\"G/D ratio, 2D ratio are : \",p)\n",
    "        print(\"\\n\")\n",
    "        if i>=number_of_unique_ratios and number_of_unique_ratios>=6:\n",
    "            if p is None:rsum((0))\n",
    "                \n",
    "            else:\n",
    "                rsum((p[0]))\n",
    "\n",
    "        mirror(\"off\")\n",
    "        time.sleep(5)\n",
    "    \n",
    "        laser_power.power=.01\n",
    " \n",
    "\n",
    "\n"
   ]
  },
  {
   "cell_type": "markdown",
   "metadata": {},
   "source": [
    "## G.The adjust() function autofocuses the z-axis each time before patterning a new spot."
   ]
  },
  {
   "cell_type": "code",
   "execution_count": null,
   "metadata": {},
   "outputs": [],
   "source": [
    "\n",
    "def adjust():\n",
    "    \n",
    "    import timeit\n",
    "\n",
    "    start = timeit.default_timer()\n",
    "    import time\n",
    "\n",
    "    zz=[8.5,8.6,8.7,8.8,8.9,9,9.1,9.2,9.3,9.4,9.5,9.6,9.7,9.8]\n",
    "    intensity=[]\n",
    "    for i in range(len(zz)):\n",
    "\n",
    "        xps.move_stage('XYZ.Z',zz[i])\n",
    "        time.sleep(5)\n",
    "        p=capture_photo('adjust',i)\n",
    "        intensity.append(p)\n",
    "    mirror('off')\n",
    "    stop = timeit.default_timer()\n",
    "\n",
    "    print('Time: ', stop - start)  \n",
    "    print(intensity)\n",
    "\n",
    "    import numpy as np\n",
    "    ix=intensity.index(np.max(intensity))\n",
    "    xps.move_stage('XYZ.Z',zz[ix])\n",
    "    print(\"adjusted z position is: \",zz[ix])\n",
    "    return intensity"
   ]
  },
  {
   "cell_type": "markdown",
   "metadata": {},
   "source": [
    "**The following codes are some random stuff**"
   ]
  },
  {
   "cell_type": "code",
   "execution_count": null,
   "metadata": {},
   "outputs": [],
   "source": [
    "#print(x.position,y.position,z.position)\n",
    "#from spectra import capture_photo\n",
    "p=adjust()\n",
    "pos_all()"
   ]
  },
  {
   "cell_type": "code",
   "execution_count": null,
   "metadata": {},
   "outputs": [],
   "source": [
    "mirror('off')"
   ]
  },
  {
   "cell_type": "code",
   "execution_count": null,
   "metadata": {},
   "outputs": [],
   "source": [
    "#mirror(\"off\")\n",
    "xps.move_stage('XYZ.X',9.2)\n",
    "xps.move_stage('XYZ.Y',9.8)\n",
    "xps.move_stage('XYZ.Z',9.2)"
   ]
  },
  {
   "cell_type": "code",
   "execution_count": null,
   "metadata": {},
   "outputs": [],
   "source": [
    "pos_all()"
   ]
  },
  {
   "cell_type": "code",
   "execution_count": null,
   "metadata": {},
   "outputs": [],
   "source": [
    "xp=position[1][0]\n",
    "yp=position[1][1]\n",
    "\n",
    "xps.move_stage('XYZ.X',xp)\n",
    "xps.move_stage('XYZ.Y',yp)\n",
    "pos_all()"
   ]
  },
  {
   "cell_type": "code",
   "execution_count": null,
   "metadata": {},
   "outputs": [],
   "source": [
    "mirror('on')"
   ]
  },
  {
   "cell_type": "code",
   "execution_count": null,
   "metadata": {},
   "outputs": [],
   "source": [
    "current_pressure()"
   ]
  }
 ],
 "metadata": {
  "kernelspec": {
   "display_name": "Python 3",
   "language": "python",
   "name": "python3"
  },
  "language_info": {
   "codemirror_mode": {
    "name": "ipython",
    "version": 3
   },
   "file_extension": ".py",
   "mimetype": "text/x-python",
   "name": "python",
   "nbconvert_exporter": "python",
   "pygments_lexer": "ipython3",
   "version": "3.7.3"
  }
 },
 "nbformat": 4,
 "nbformat_minor": 2
}
